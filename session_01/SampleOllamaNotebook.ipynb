{
 "cells": [
  {
   "cell_type": "markdown",
   "metadata": {},
   "source": [
    "### Install necessary packages\n",
    "```pip3 install -r requirements.txt```\n",
    "    \n",
    "    \n",
    "    "
   ]
  },
  {
   "cell_type": "markdown",
   "metadata": {},
   "source": [
    "### 1. Embeddings using Ollama"
   ]
  },
  {
   "cell_type": "code",
   "execution_count": 5,
   "metadata": {},
   "outputs": [],
   "source": [
    "from langchain_ollama.llms import OllamaLLM\n",
    "from langchain.prompts import PromptTemplate\n",
    "from langchain.schema.output_parser import StrOutputParser\n",
    "from IPython.display import display, Markdown"
   ]
  },
  {
   "cell_type": "markdown",
   "metadata": {},
   "source": [
    "# 2. If you have downloaded Ollama... \n",
    "\n",
    "...and it's running you should have llama3.1 already installed"
   ]
  },
  {
   "cell_type": "code",
   "execution_count": 6,
   "metadata": {},
   "outputs": [],
   "source": [
    "# ollama.pull('llama3.1:latest')"
   ]
  },
  {
   "cell_type": "markdown",
   "metadata": {},
   "source": [
    "# Run the script to get a step by step explanation\n",
    "\n",
    "For example: \"Why didn't the science fiction writer Octavia Butler not get more recognition earlier in her life?\""
   ]
  },
  {
   "cell_type": "markdown",
   "metadata": {},
   "source": [
    "Step 1: Introduction to Octavia Butler\n",
    "\n",
    "Octavia Butler was an American science fiction writer, best known for her novels and short stories that explored themes of social justice, power dynamics, and the human condition. She is considered one of the most influential African American writers in the science fiction genre.\n",
    "\n",
    "Step 2: Early Life and Writing Career\n",
    "\n",
    "Butler was born on June 22, 1947, in Pasadena, California. She grew up in a poor household with her single mother, a domestic worker, and her younger brother. Butler's interest in writing began at an early age, but she faced significant challenges in developing her craft.\n",
    "\n",
    "Step 3: Obstacles to Recognition\n",
    "\n",
    "Several factors contributed to Butler not receiving widespread recognition earlier in her life:\n",
    "\n",
    "Racism: As an African American writer, Butler encountered prejudice and bias from the literary community. Many reviewers and critics were unwilling or unable to engage with her work on its own merit.\n",
    "Social Context: Butler wrote about socially conscious themes like slavery, oppression, and social justice, which may have made it difficult for readers to connect with her work in a more mainstream way.\n",
    "Genre Bias: Science fiction was not as widely accepted or respected as other genres, such as literary fiction. This genre bias limited Butler's opportunities for recognition and success.\n",
    "Step 4: Key Factors Contributing to Butler's Late Recognition\n",
    "\n",
    "Several factors contributed to Butler's late recognition:\n",
    "\n",
    "Perseverance: Despite the obstacles she faced, Butler continued to write and produce high-quality work throughout her career.\n",
    "Academic and Literary Communities: The academic community began to take notice of Butler's work in the 1980s and 1990s, which helped to build a foundation for her later recognition.\n",
    "Diversification of Science Fiction: As science fiction became more popular and accepted, Butler's unique perspective and contributions were increasingly recognized.\n",
    "Diversification of Science Fiction: As science fiction became more popular and accepted, Butler's unique perspective and contributions were increasingly recognized.\n",
    "Step 5: Conclusion\n",
    "\n",
    "Octavia Butler's lack of recognition earlier in her life can be attributed to a combination of factors, including racism, social context, genre bias, and personal perseverance."
   ]
  },
  {
   "cell_type": "code",
   "execution_count": 4,
   "metadata": {},
   "outputs": [
    {
     "data": {
      "text/markdown": [
       "Here's a step-by-step explanation of the topic:\n",
       "\n",
       "**Step 1: Introduction to Octavia Butler**\n",
       "\n",
       "Octavia Butler was an American science fiction writer, best known for her novels and short stories that explored themes of social justice, power dynamics, and the human condition. She is considered one of the most influential African American writers in the science fiction genre.\n",
       "\n",
       "**Step 2: Early Life and Writing Career**\n",
       "\n",
       "Butler was born on June 22, 1947, in Pasadena, California. She grew up in a poor household with her single mother, a domestic worker, and her younger brother. Butler's interest in writing began at an early age, but she faced significant challenges in developing her craft.\n",
       "\n",
       "**Step 3: Obstacles to Recognition**\n",
       "\n",
       "Several factors contributed to Butler not receiving widespread recognition earlier in her life:\n",
       "\n",
       "*   **Racism**: As an African American writer, Butler encountered prejudice and bias from the literary community. Many reviewers and critics were unwilling or unable to engage with her work on its own merit.\n",
       "*   **Social Context**: Butler wrote about socially conscious themes like slavery, oppression, and social justice, which may have made it difficult for readers to connect with her work in a more mainstream way.\n",
       "*   **Genre Bias**: Science fiction was not as widely accepted or respected as other genres, such as literary fiction. This genre bias limited Butler's opportunities for recognition and success.\n",
       "\n",
       "**Step 4: Key Factors Contributing to Butler's Late Recognition**\n",
       "\n",
       "Several factors contributed to Butler's late recognition:\n",
       "\n",
       "1.  **Perseverance**: Despite the obstacles she faced, Butler continued to write and produce high-quality work throughout her career.\n",
       "2.  **Academic and Literary Communities**: The academic community began to take notice of Butler's work in the 1980s and 1990s, which helped to build a foundation for her later recognition.\n",
       "3.  **Diversification of Science Fiction**: As science fiction became more popular and accepted, Butler's unique perspective and contributions were increasingly recognized.\n",
       "\n",
       "**Step 5: Conclusion**\n",
       "\n",
       "Octavia Butler's lack of recognition earlier in her life can be attributed to a combination of factors, including racism, social context, genre bias, and personal perseverance."
      ],
      "text/plain": [
       "<IPython.core.display.Markdown object>"
      ]
     },
     "metadata": {},
     "output_type": "display_data"
    }
   ],
   "source": [
    "user_input = input(\"Give a topic that the AI will explain to you in steps\\n\")\n",
    "\n",
    "application_prompt = \"\"\"Given the following topic and then explain what it is step by step\n",
    "    {user_input}\n",
    "\"\"\"\n",
    "\n",
    "prompt = PromptTemplate(input_variables=[\"user_input\"], \n",
    "                        template=application_prompt)\n",
    "\n",
    "llm = OllamaLLM(model=\"llama3.1:latest\", \n",
    "                temperature=1, \n",
    "                max_tokens=1000)\n",
    "\n",
    "chain = prompt | llm | StrOutputParser()\n",
    "\n",
    "result = chain.invoke({\"user_input\": {user_input}})\n",
    "\n",
    "display(Markdown(result))\n"
   ]
  },
  {
   "cell_type": "code",
   "execution_count": null,
   "metadata": {},
   "outputs": [],
   "source": [
    "user_input = input(\"Give a topic that the AI will explain to you in steps\\n\")\n",
    "\n",
    "application_prompt = \"\"\"Given the following topic and then explain what it is step by step\n",
    "    {user_input}\n",
    "\"\"\"\n",
    "\n",
    "prompt = PromptTemplate(input_variables=[\"user_input\"], \n",
    "                        template=application_prompt)\n",
    "\n",
    "llm = OllamaLLM(model=\"llama3.1:latest\", \n",
    "                temperature=0.9, \n",
    "                max_tokens=1000)\n",
    "\n",
    "chain = prompt | llm | StrOutputParser()\n",
    "\n",
    "result = chain.invoke({\"user_input\": {user_input}})\n",
    "\n",
    "display(Markdown(result))\n"
   ]
  }
 ],
 "metadata": {
  "kernelspec": {
   "display_name": "base",
   "language": "python",
   "name": "python3"
  },
  "language_info": {
   "codemirror_mode": {
    "name": "ipython",
    "version": 3
   },
   "file_extension": ".py",
   "mimetype": "text/x-python",
   "name": "python",
   "nbconvert_exporter": "python",
   "pygments_lexer": "ipython3",
   "version": "3.11.6"
  }
 },
 "nbformat": 4,
 "nbformat_minor": 2
}
