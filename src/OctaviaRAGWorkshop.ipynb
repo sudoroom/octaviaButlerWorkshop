{
 "cells": [
  {
   "cell_type": "markdown",
   "metadata": {},
   "source": [
    "# Octavia Butler Open-Source AI Workshop"
   ]
  },
  {
   "cell_type": "code",
   "execution_count": null,
   "metadata": {},
   "outputs": [],
   "source": []
  },
  {
   "cell_type": "markdown",
   "metadata": {},
   "source": [
    "![images/Butler-Perret_BACK-ofbook-1.jpg](images/Butler-Perret_BACK-ofbook-1.jpg)\n",
    "\n",
    " * [Event page](https://sudoroom.org/events/women-nonbinary-hack-night-2024-08-19/) and [https://lu.ma/m3qsibqb](https://lu.ma/m3qsibqb)"
   ]
  },
  {
   "cell_type": "markdown",
   "metadata": {},
   "source": [
    "### Install necessary packages\n",
    "```pip3 install -r requirements.txt```\n",
    "    \n",
    "    \n",
    "    "
   ]
  },
  {
   "cell_type": "code",
   "execution_count": 3,
   "metadata": {},
   "outputs": [
    {
     "name": "stdout",
     "output_type": "stream",
     "text": [
      "Requirement already satisfied: torch in /Users/romyilano/Developer/hackerspaces/sudoroom/octaviaButlerWorkshop/.venv/lib/python3.10/site-packages (from -r requirements.txt (line 1)) (2.4.0)\n",
      "Requirement already satisfied: langchain-openai in /Users/romyilano/Developer/hackerspaces/sudoroom/octaviaButlerWorkshop/.venv/lib/python3.10/site-packages (from -r requirements.txt (line 2)) (0.1.22)\n",
      "Requirement already satisfied: langchain-community in /Users/romyilano/Developer/hackerspaces/sudoroom/octaviaButlerWorkshop/.venv/lib/python3.10/site-packages (from -r requirements.txt (line 3)) (0.2.12)\n",
      "Requirement already satisfied: faiss-cpu in /Users/romyilano/Developer/hackerspaces/sudoroom/octaviaButlerWorkshop/.venv/lib/python3.10/site-packages (from -r requirements.txt (line 4)) (1.8.0.post1)\n",
      "Requirement already satisfied: langchain-huggingface in /Users/romyilano/Developer/hackerspaces/sudoroom/octaviaButlerWorkshop/.venv/lib/python3.10/site-packages (from -r requirements.txt (line 5)) (0.0.3)\n",
      "Requirement already satisfied: sentence_transformers in /Users/romyilano/Developer/hackerspaces/sudoroom/octaviaButlerWorkshop/.venv/lib/python3.10/site-packages (from -r requirements.txt (line 6)) (3.0.1)\n",
      "Requirement already satisfied: langchain_ollama in /Users/romyilano/Developer/hackerspaces/sudoroom/octaviaButlerWorkshop/.venv/lib/python3.10/site-packages (from -r requirements.txt (line 7)) (0.1.1)\n",
      "Requirement already satisfied: pypdf in /Users/romyilano/Developer/hackerspaces/sudoroom/octaviaButlerWorkshop/.venv/lib/python3.10/site-packages (from -r requirements.txt (line 8)) (4.3.1)\n",
      "Requirement already satisfied: llama-index in /Users/romyilano/Developer/hackerspaces/sudoroom/octaviaButlerWorkshop/.venv/lib/python3.10/site-packages (from -r requirements.txt (line 9)) (0.10.67.post1)\n",
      "Requirement already satisfied: llama-index-embeddings-huggingface in /Users/romyilano/Developer/hackerspaces/sudoroom/octaviaButlerWorkshop/.venv/lib/python3.10/site-packages (from -r requirements.txt (line 10)) (0.2.3)\n",
      "Requirement already satisfied: llama-index-llms-ollama in /Users/romyilano/Developer/hackerspaces/sudoroom/octaviaButlerWorkshop/.venv/lib/python3.10/site-packages (from -r requirements.txt (line 11)) (0.2.2)\n",
      "Requirement already satisfied: filelock in /Users/romyilano/Developer/hackerspaces/sudoroom/octaviaButlerWorkshop/.venv/lib/python3.10/site-packages (from torch->-r requirements.txt (line 1)) (3.15.4)\n",
      "Requirement already satisfied: typing-extensions>=4.8.0 in /Users/romyilano/Developer/hackerspaces/sudoroom/octaviaButlerWorkshop/.venv/lib/python3.10/site-packages (from torch->-r requirements.txt (line 1)) (4.12.2)\n",
      "Requirement already satisfied: sympy in /Users/romyilano/Developer/hackerspaces/sudoroom/octaviaButlerWorkshop/.venv/lib/python3.10/site-packages (from torch->-r requirements.txt (line 1)) (1.13.2)\n",
      "Requirement already satisfied: networkx in /Users/romyilano/Developer/hackerspaces/sudoroom/octaviaButlerWorkshop/.venv/lib/python3.10/site-packages (from torch->-r requirements.txt (line 1)) (3.3)\n",
      "Requirement already satisfied: jinja2 in /Users/romyilano/Developer/hackerspaces/sudoroom/octaviaButlerWorkshop/.venv/lib/python3.10/site-packages (from torch->-r requirements.txt (line 1)) (3.1.4)\n",
      "Requirement already satisfied: fsspec in /Users/romyilano/Developer/hackerspaces/sudoroom/octaviaButlerWorkshop/.venv/lib/python3.10/site-packages (from torch->-r requirements.txt (line 1)) (2024.6.1)\n",
      "Requirement already satisfied: langchain-core<0.3.0,>=0.2.33 in /Users/romyilano/Developer/hackerspaces/sudoroom/octaviaButlerWorkshop/.venv/lib/python3.10/site-packages (from langchain-openai->-r requirements.txt (line 2)) (0.2.33)\n",
      "Requirement already satisfied: openai<2.0.0,>=1.40.0 in /Users/romyilano/Developer/hackerspaces/sudoroom/octaviaButlerWorkshop/.venv/lib/python3.10/site-packages (from langchain-openai->-r requirements.txt (line 2)) (1.41.0)\n",
      "Requirement already satisfied: tiktoken<1,>=0.7 in /Users/romyilano/Developer/hackerspaces/sudoroom/octaviaButlerWorkshop/.venv/lib/python3.10/site-packages (from langchain-openai->-r requirements.txt (line 2)) (0.7.0)\n",
      "Requirement already satisfied: PyYAML>=5.3 in /Users/romyilano/Developer/hackerspaces/sudoroom/octaviaButlerWorkshop/.venv/lib/python3.10/site-packages (from langchain-community->-r requirements.txt (line 3)) (6.0.2)\n",
      "Requirement already satisfied: SQLAlchemy<3,>=1.4 in /Users/romyilano/Developer/hackerspaces/sudoroom/octaviaButlerWorkshop/.venv/lib/python3.10/site-packages (from langchain-community->-r requirements.txt (line 3)) (2.0.32)\n",
      "Requirement already satisfied: aiohttp<4.0.0,>=3.8.3 in /Users/romyilano/Developer/hackerspaces/sudoroom/octaviaButlerWorkshop/.venv/lib/python3.10/site-packages (from langchain-community->-r requirements.txt (line 3)) (3.10.5)\n",
      "Requirement already satisfied: dataclasses-json<0.7,>=0.5.7 in /Users/romyilano/Developer/hackerspaces/sudoroom/octaviaButlerWorkshop/.venv/lib/python3.10/site-packages (from langchain-community->-r requirements.txt (line 3)) (0.6.7)\n",
      "Requirement already satisfied: langchain<0.3.0,>=0.2.13 in /Users/romyilano/Developer/hackerspaces/sudoroom/octaviaButlerWorkshop/.venv/lib/python3.10/site-packages (from langchain-community->-r requirements.txt (line 3)) (0.2.14)\n",
      "Requirement already satisfied: langsmith<0.2.0,>=0.1.0 in /Users/romyilano/Developer/hackerspaces/sudoroom/octaviaButlerWorkshop/.venv/lib/python3.10/site-packages (from langchain-community->-r requirements.txt (line 3)) (0.1.99)\n",
      "Requirement already satisfied: numpy<2,>=1 in /Users/romyilano/Developer/hackerspaces/sudoroom/octaviaButlerWorkshop/.venv/lib/python3.10/site-packages (from langchain-community->-r requirements.txt (line 3)) (1.26.4)\n",
      "Requirement already satisfied: requests<3,>=2 in /Users/romyilano/Developer/hackerspaces/sudoroom/octaviaButlerWorkshop/.venv/lib/python3.10/site-packages (from langchain-community->-r requirements.txt (line 3)) (2.32.3)\n",
      "Requirement already satisfied: tenacity!=8.4.0,<9.0.0,>=8.1.0 in /Users/romyilano/Developer/hackerspaces/sudoroom/octaviaButlerWorkshop/.venv/lib/python3.10/site-packages (from langchain-community->-r requirements.txt (line 3)) (8.5.0)\n",
      "Requirement already satisfied: packaging in /Users/romyilano/Developer/hackerspaces/sudoroom/octaviaButlerWorkshop/.venv/lib/python3.10/site-packages (from faiss-cpu->-r requirements.txt (line 4)) (24.1)\n",
      "Requirement already satisfied: huggingface-hub>=0.23.0 in /Users/romyilano/Developer/hackerspaces/sudoroom/octaviaButlerWorkshop/.venv/lib/python3.10/site-packages (from langchain-huggingface->-r requirements.txt (line 5)) (0.24.6)\n",
      "Requirement already satisfied: tokenizers>=0.19.1 in /Users/romyilano/Developer/hackerspaces/sudoroom/octaviaButlerWorkshop/.venv/lib/python3.10/site-packages (from langchain-huggingface->-r requirements.txt (line 5)) (0.19.1)\n",
      "Requirement already satisfied: transformers>=4.39.0 in /Users/romyilano/Developer/hackerspaces/sudoroom/octaviaButlerWorkshop/.venv/lib/python3.10/site-packages (from langchain-huggingface->-r requirements.txt (line 5)) (4.44.0)\n",
      "Requirement already satisfied: tqdm in /Users/romyilano/Developer/hackerspaces/sudoroom/octaviaButlerWorkshop/.venv/lib/python3.10/site-packages (from sentence_transformers->-r requirements.txt (line 6)) (4.66.5)\n",
      "Requirement already satisfied: scikit-learn in /Users/romyilano/Developer/hackerspaces/sudoroom/octaviaButlerWorkshop/.venv/lib/python3.10/site-packages (from sentence_transformers->-r requirements.txt (line 6)) (1.5.1)\n",
      "Requirement already satisfied: scipy in /Users/romyilano/Developer/hackerspaces/sudoroom/octaviaButlerWorkshop/.venv/lib/python3.10/site-packages (from sentence_transformers->-r requirements.txt (line 6)) (1.14.0)\n",
      "Requirement already satisfied: Pillow in /Users/romyilano/Developer/hackerspaces/sudoroom/octaviaButlerWorkshop/.venv/lib/python3.10/site-packages (from sentence_transformers->-r requirements.txt (line 6)) (10.4.0)\n",
      "Requirement already satisfied: ollama<1,>=0.3.0 in /Users/romyilano/Developer/hackerspaces/sudoroom/octaviaButlerWorkshop/.venv/lib/python3.10/site-packages (from langchain_ollama->-r requirements.txt (line 7)) (0.3.1)\n",
      "Requirement already satisfied: llama-index-agent-openai<0.3.0,>=0.1.4 in /Users/romyilano/Developer/hackerspaces/sudoroom/octaviaButlerWorkshop/.venv/lib/python3.10/site-packages (from llama-index->-r requirements.txt (line 9)) (0.2.9)\n",
      "Requirement already satisfied: llama-index-cli<0.2.0,>=0.1.2 in /Users/romyilano/Developer/hackerspaces/sudoroom/octaviaButlerWorkshop/.venv/lib/python3.10/site-packages (from llama-index->-r requirements.txt (line 9)) (0.1.13)\n",
      "Requirement already satisfied: llama-index-core<0.11.0,>=0.10.67 in /Users/romyilano/Developer/hackerspaces/sudoroom/octaviaButlerWorkshop/.venv/lib/python3.10/site-packages (from llama-index->-r requirements.txt (line 9)) (0.10.67)\n",
      "Requirement already satisfied: llama-index-embeddings-openai<0.2.0,>=0.1.5 in /Users/romyilano/Developer/hackerspaces/sudoroom/octaviaButlerWorkshop/.venv/lib/python3.10/site-packages (from llama-index->-r requirements.txt (line 9)) (0.1.11)\n",
      "Requirement already satisfied: llama-index-indices-managed-llama-cloud>=0.2.0 in /Users/romyilano/Developer/hackerspaces/sudoroom/octaviaButlerWorkshop/.venv/lib/python3.10/site-packages (from llama-index->-r requirements.txt (line 9)) (0.2.7)\n",
      "Requirement already satisfied: llama-index-legacy<0.10.0,>=0.9.48 in /Users/romyilano/Developer/hackerspaces/sudoroom/octaviaButlerWorkshop/.venv/lib/python3.10/site-packages (from llama-index->-r requirements.txt (line 9)) (0.9.48.post3)\n",
      "Requirement already satisfied: llama-index-llms-openai<0.2.0,>=0.1.27 in /Users/romyilano/Developer/hackerspaces/sudoroom/octaviaButlerWorkshop/.venv/lib/python3.10/site-packages (from llama-index->-r requirements.txt (line 9)) (0.1.29)\n",
      "Requirement already satisfied: llama-index-multi-modal-llms-openai<0.2.0,>=0.1.3 in /Users/romyilano/Developer/hackerspaces/sudoroom/octaviaButlerWorkshop/.venv/lib/python3.10/site-packages (from llama-index->-r requirements.txt (line 9)) (0.1.9)\n",
      "Requirement already satisfied: llama-index-program-openai<0.2.0,>=0.1.3 in /Users/romyilano/Developer/hackerspaces/sudoroom/octaviaButlerWorkshop/.venv/lib/python3.10/site-packages (from llama-index->-r requirements.txt (line 9)) (0.1.7)\n",
      "Requirement already satisfied: llama-index-question-gen-openai<0.2.0,>=0.1.2 in /Users/romyilano/Developer/hackerspaces/sudoroom/octaviaButlerWorkshop/.venv/lib/python3.10/site-packages (from llama-index->-r requirements.txt (line 9)) (0.1.3)\n",
      "Requirement already satisfied: llama-index-readers-file<0.2.0,>=0.1.4 in /Users/romyilano/Developer/hackerspaces/sudoroom/octaviaButlerWorkshop/.venv/lib/python3.10/site-packages (from llama-index->-r requirements.txt (line 9)) (0.1.33)\n",
      "Requirement already satisfied: llama-index-readers-llama-parse>=0.1.2 in /Users/romyilano/Developer/hackerspaces/sudoroom/octaviaButlerWorkshop/.venv/lib/python3.10/site-packages (from llama-index->-r requirements.txt (line 9)) (0.1.6)\n",
      "Requirement already satisfied: aiohappyeyeballs>=2.3.0 in /Users/romyilano/Developer/hackerspaces/sudoroom/octaviaButlerWorkshop/.venv/lib/python3.10/site-packages (from aiohttp<4.0.0,>=3.8.3->langchain-community->-r requirements.txt (line 3)) (2.4.0)\n",
      "Requirement already satisfied: aiosignal>=1.1.2 in /Users/romyilano/Developer/hackerspaces/sudoroom/octaviaButlerWorkshop/.venv/lib/python3.10/site-packages (from aiohttp<4.0.0,>=3.8.3->langchain-community->-r requirements.txt (line 3)) (1.3.1)\n",
      "Requirement already satisfied: attrs>=17.3.0 in /Users/romyilano/Developer/hackerspaces/sudoroom/octaviaButlerWorkshop/.venv/lib/python3.10/site-packages (from aiohttp<4.0.0,>=3.8.3->langchain-community->-r requirements.txt (line 3)) (24.2.0)\n",
      "Requirement already satisfied: frozenlist>=1.1.1 in /Users/romyilano/Developer/hackerspaces/sudoroom/octaviaButlerWorkshop/.venv/lib/python3.10/site-packages (from aiohttp<4.0.0,>=3.8.3->langchain-community->-r requirements.txt (line 3)) (1.4.1)\n",
      "Requirement already satisfied: multidict<7.0,>=4.5 in /Users/romyilano/Developer/hackerspaces/sudoroom/octaviaButlerWorkshop/.venv/lib/python3.10/site-packages (from aiohttp<4.0.0,>=3.8.3->langchain-community->-r requirements.txt (line 3)) (6.0.5)\n",
      "Requirement already satisfied: yarl<2.0,>=1.0 in /Users/romyilano/Developer/hackerspaces/sudoroom/octaviaButlerWorkshop/.venv/lib/python3.10/site-packages (from aiohttp<4.0.0,>=3.8.3->langchain-community->-r requirements.txt (line 3)) (1.9.4)\n",
      "Requirement already satisfied: async-timeout<5.0,>=4.0 in /Users/romyilano/Developer/hackerspaces/sudoroom/octaviaButlerWorkshop/.venv/lib/python3.10/site-packages (from aiohttp<4.0.0,>=3.8.3->langchain-community->-r requirements.txt (line 3)) (4.0.3)\n",
      "Requirement already satisfied: marshmallow<4.0.0,>=3.18.0 in /Users/romyilano/Developer/hackerspaces/sudoroom/octaviaButlerWorkshop/.venv/lib/python3.10/site-packages (from dataclasses-json<0.7,>=0.5.7->langchain-community->-r requirements.txt (line 3)) (3.21.3)\n",
      "Requirement already satisfied: typing-inspect<1,>=0.4.0 in /Users/romyilano/Developer/hackerspaces/sudoroom/octaviaButlerWorkshop/.venv/lib/python3.10/site-packages (from dataclasses-json<0.7,>=0.5.7->langchain-community->-r requirements.txt (line 3)) (0.9.0)\n",
      "Requirement already satisfied: minijinja>=1.0 in /Users/romyilano/Developer/hackerspaces/sudoroom/octaviaButlerWorkshop/.venv/lib/python3.10/site-packages (from huggingface-hub[inference]>=0.19.0->llama-index-embeddings-huggingface->-r requirements.txt (line 10)) (2.0.1)\n",
      "Requirement already satisfied: langchain-text-splitters<0.3.0,>=0.2.0 in /Users/romyilano/Developer/hackerspaces/sudoroom/octaviaButlerWorkshop/.venv/lib/python3.10/site-packages (from langchain<0.3.0,>=0.2.13->langchain-community->-r requirements.txt (line 3)) (0.2.2)\n",
      "Requirement already satisfied: pydantic<3,>=1 in /Users/romyilano/Developer/hackerspaces/sudoroom/octaviaButlerWorkshop/.venv/lib/python3.10/site-packages (from langchain<0.3.0,>=0.2.13->langchain-community->-r requirements.txt (line 3)) (2.8.2)\n",
      "Requirement already satisfied: jsonpatch<2.0,>=1.33 in /Users/romyilano/Developer/hackerspaces/sudoroom/octaviaButlerWorkshop/.venv/lib/python3.10/site-packages (from langchain-core<0.3.0,>=0.2.33->langchain-openai->-r requirements.txt (line 2)) (1.33)\n",
      "Requirement already satisfied: orjson<4.0.0,>=3.9.14 in /Users/romyilano/Developer/hackerspaces/sudoroom/octaviaButlerWorkshop/.venv/lib/python3.10/site-packages (from langsmith<0.2.0,>=0.1.0->langchain-community->-r requirements.txt (line 3)) (3.10.7)\n",
      "Requirement already satisfied: deprecated>=1.2.9.3 in /Users/romyilano/Developer/hackerspaces/sudoroom/octaviaButlerWorkshop/.venv/lib/python3.10/site-packages (from llama-index-core<0.11.0,>=0.10.67->llama-index->-r requirements.txt (line 9)) (1.2.14)\n",
      "Requirement already satisfied: dirtyjson<2.0.0,>=1.0.8 in /Users/romyilano/Developer/hackerspaces/sudoroom/octaviaButlerWorkshop/.venv/lib/python3.10/site-packages (from llama-index-core<0.11.0,>=0.10.67->llama-index->-r requirements.txt (line 9)) (1.0.8)\n",
      "Requirement already satisfied: httpx in /Users/romyilano/Developer/hackerspaces/sudoroom/octaviaButlerWorkshop/.venv/lib/python3.10/site-packages (from llama-index-core<0.11.0,>=0.10.67->llama-index->-r requirements.txt (line 9)) (0.27.0)\n",
      "Requirement already satisfied: nest-asyncio<2.0.0,>=1.5.8 in /Users/romyilano/Developer/hackerspaces/sudoroom/octaviaButlerWorkshop/.venv/lib/python3.10/site-packages (from llama-index-core<0.11.0,>=0.10.67->llama-index->-r requirements.txt (line 9)) (1.6.0)\n",
      "Requirement already satisfied: nltk!=3.9,>=3.8.1 in /Users/romyilano/Developer/hackerspaces/sudoroom/octaviaButlerWorkshop/.venv/lib/python3.10/site-packages (from llama-index-core<0.11.0,>=0.10.67->llama-index->-r requirements.txt (line 9)) (3.9.1)\n",
      "Requirement already satisfied: pandas in /Users/romyilano/Developer/hackerspaces/sudoroom/octaviaButlerWorkshop/.venv/lib/python3.10/site-packages (from llama-index-core<0.11.0,>=0.10.67->llama-index->-r requirements.txt (line 9)) (2.2.2)\n",
      "Requirement already satisfied: wrapt in /Users/romyilano/Developer/hackerspaces/sudoroom/octaviaButlerWorkshop/.venv/lib/python3.10/site-packages (from llama-index-core<0.11.0,>=0.10.67->llama-index->-r requirements.txt (line 9)) (1.16.0)\n",
      "Requirement already satisfied: llama-cloud>=0.0.11 in /Users/romyilano/Developer/hackerspaces/sudoroom/octaviaButlerWorkshop/.venv/lib/python3.10/site-packages (from llama-index-indices-managed-llama-cloud>=0.2.0->llama-index->-r requirements.txt (line 9)) (0.0.13)\n",
      "Requirement already satisfied: beautifulsoup4<5.0.0,>=4.12.3 in /Users/romyilano/Developer/hackerspaces/sudoroom/octaviaButlerWorkshop/.venv/lib/python3.10/site-packages (from llama-index-readers-file<0.2.0,>=0.1.4->llama-index->-r requirements.txt (line 9)) (4.12.3)\n",
      "Requirement already satisfied: striprtf<0.0.27,>=0.0.26 in /Users/romyilano/Developer/hackerspaces/sudoroom/octaviaButlerWorkshop/.venv/lib/python3.10/site-packages (from llama-index-readers-file<0.2.0,>=0.1.4->llama-index->-r requirements.txt (line 9)) (0.0.26)\n",
      "Requirement already satisfied: llama-parse>=0.4.0 in /Users/romyilano/Developer/hackerspaces/sudoroom/octaviaButlerWorkshop/.venv/lib/python3.10/site-packages (from llama-index-readers-llama-parse>=0.1.2->llama-index->-r requirements.txt (line 9)) (0.4.9)\n",
      "Requirement already satisfied: anyio<5,>=3.5.0 in /Users/romyilano/Developer/hackerspaces/sudoroom/octaviaButlerWorkshop/.venv/lib/python3.10/site-packages (from openai<2.0.0,>=1.40.0->langchain-openai->-r requirements.txt (line 2)) (4.4.0)\n",
      "Requirement already satisfied: distro<2,>=1.7.0 in /Users/romyilano/Developer/hackerspaces/sudoroom/octaviaButlerWorkshop/.venv/lib/python3.10/site-packages (from openai<2.0.0,>=1.40.0->langchain-openai->-r requirements.txt (line 2)) (1.9.0)\n",
      "Requirement already satisfied: jiter<1,>=0.4.0 in /Users/romyilano/Developer/hackerspaces/sudoroom/octaviaButlerWorkshop/.venv/lib/python3.10/site-packages (from openai<2.0.0,>=1.40.0->langchain-openai->-r requirements.txt (line 2)) (0.5.0)\n",
      "Requirement already satisfied: sniffio in /Users/romyilano/Developer/hackerspaces/sudoroom/octaviaButlerWorkshop/.venv/lib/python3.10/site-packages (from openai<2.0.0,>=1.40.0->langchain-openai->-r requirements.txt (line 2)) (1.3.1)\n",
      "Requirement already satisfied: charset-normalizer<4,>=2 in /Users/romyilano/Developer/hackerspaces/sudoroom/octaviaButlerWorkshop/.venv/lib/python3.10/site-packages (from requests<3,>=2->langchain-community->-r requirements.txt (line 3)) (3.3.2)\n",
      "Requirement already satisfied: idna<4,>=2.5 in /Users/romyilano/Developer/hackerspaces/sudoroom/octaviaButlerWorkshop/.venv/lib/python3.10/site-packages (from requests<3,>=2->langchain-community->-r requirements.txt (line 3)) (3.7)\n",
      "Requirement already satisfied: urllib3<3,>=1.21.1 in /Users/romyilano/Developer/hackerspaces/sudoroom/octaviaButlerWorkshop/.venv/lib/python3.10/site-packages (from requests<3,>=2->langchain-community->-r requirements.txt (line 3)) (2.2.2)\n",
      "Requirement already satisfied: certifi>=2017.4.17 in /Users/romyilano/Developer/hackerspaces/sudoroom/octaviaButlerWorkshop/.venv/lib/python3.10/site-packages (from requests<3,>=2->langchain-community->-r requirements.txt (line 3)) (2024.7.4)\n",
      "Requirement already satisfied: regex>=2022.1.18 in /Users/romyilano/Developer/hackerspaces/sudoroom/octaviaButlerWorkshop/.venv/lib/python3.10/site-packages (from tiktoken<1,>=0.7->langchain-openai->-r requirements.txt (line 2)) (2024.7.24)\n",
      "Requirement already satisfied: safetensors>=0.4.1 in /Users/romyilano/Developer/hackerspaces/sudoroom/octaviaButlerWorkshop/.venv/lib/python3.10/site-packages (from transformers>=4.39.0->langchain-huggingface->-r requirements.txt (line 5)) (0.4.4)\n",
      "Requirement already satisfied: MarkupSafe>=2.0 in /Users/romyilano/Developer/hackerspaces/sudoroom/octaviaButlerWorkshop/.venv/lib/python3.10/site-packages (from jinja2->torch->-r requirements.txt (line 1)) (2.1.5)\n",
      "Requirement already satisfied: joblib>=1.2.0 in /Users/romyilano/Developer/hackerspaces/sudoroom/octaviaButlerWorkshop/.venv/lib/python3.10/site-packages (from scikit-learn->sentence_transformers->-r requirements.txt (line 6)) (1.4.2)\n",
      "Requirement already satisfied: threadpoolctl>=3.1.0 in /Users/romyilano/Developer/hackerspaces/sudoroom/octaviaButlerWorkshop/.venv/lib/python3.10/site-packages (from scikit-learn->sentence_transformers->-r requirements.txt (line 6)) (3.5.0)\n",
      "Requirement already satisfied: mpmath<1.4,>=1.1.0 in /Users/romyilano/Developer/hackerspaces/sudoroom/octaviaButlerWorkshop/.venv/lib/python3.10/site-packages (from sympy->torch->-r requirements.txt (line 1)) (1.3.0)\n",
      "Requirement already satisfied: exceptiongroup>=1.0.2 in /Users/romyilano/Developer/hackerspaces/sudoroom/octaviaButlerWorkshop/.venv/lib/python3.10/site-packages (from anyio<5,>=3.5.0->openai<2.0.0,>=1.40.0->langchain-openai->-r requirements.txt (line 2)) (1.2.2)\n",
      "Requirement already satisfied: soupsieve>1.2 in /Users/romyilano/Developer/hackerspaces/sudoroom/octaviaButlerWorkshop/.venv/lib/python3.10/site-packages (from beautifulsoup4<5.0.0,>=4.12.3->llama-index-readers-file<0.2.0,>=0.1.4->llama-index->-r requirements.txt (line 9)) (2.6)\n",
      "Requirement already satisfied: httpcore==1.* in /Users/romyilano/Developer/hackerspaces/sudoroom/octaviaButlerWorkshop/.venv/lib/python3.10/site-packages (from httpx->llama-index-core<0.11.0,>=0.10.67->llama-index->-r requirements.txt (line 9)) (1.0.5)\n",
      "Requirement already satisfied: h11<0.15,>=0.13 in /Users/romyilano/Developer/hackerspaces/sudoroom/octaviaButlerWorkshop/.venv/lib/python3.10/site-packages (from httpcore==1.*->httpx->llama-index-core<0.11.0,>=0.10.67->llama-index->-r requirements.txt (line 9)) (0.14.0)\n",
      "Requirement already satisfied: jsonpointer>=1.9 in /Users/romyilano/Developer/hackerspaces/sudoroom/octaviaButlerWorkshop/.venv/lib/python3.10/site-packages (from jsonpatch<2.0,>=1.33->langchain-core<0.3.0,>=0.2.33->langchain-openai->-r requirements.txt (line 2)) (3.0.0)\n",
      "Requirement already satisfied: click in /Users/romyilano/Developer/hackerspaces/sudoroom/octaviaButlerWorkshop/.venv/lib/python3.10/site-packages (from nltk!=3.9,>=3.8.1->llama-index-core<0.11.0,>=0.10.67->llama-index->-r requirements.txt (line 9)) (8.1.7)\n",
      "Requirement already satisfied: annotated-types>=0.4.0 in /Users/romyilano/Developer/hackerspaces/sudoroom/octaviaButlerWorkshop/.venv/lib/python3.10/site-packages (from pydantic<3,>=1->langchain<0.3.0,>=0.2.13->langchain-community->-r requirements.txt (line 3)) (0.7.0)\n",
      "Requirement already satisfied: pydantic-core==2.20.1 in /Users/romyilano/Developer/hackerspaces/sudoroom/octaviaButlerWorkshop/.venv/lib/python3.10/site-packages (from pydantic<3,>=1->langchain<0.3.0,>=0.2.13->langchain-community->-r requirements.txt (line 3)) (2.20.1)\n",
      "Requirement already satisfied: greenlet!=0.4.17 in /Users/romyilano/Developer/hackerspaces/sudoroom/octaviaButlerWorkshop/.venv/lib/python3.10/site-packages (from SQLAlchemy[asyncio]>=1.4.49->llama-index-core<0.11.0,>=0.10.67->llama-index->-r requirements.txt (line 9)) (3.0.3)\n",
      "Requirement already satisfied: mypy-extensions>=0.3.0 in /Users/romyilano/Developer/hackerspaces/sudoroom/octaviaButlerWorkshop/.venv/lib/python3.10/site-packages (from typing-inspect<1,>=0.4.0->dataclasses-json<0.7,>=0.5.7->langchain-community->-r requirements.txt (line 3)) (1.0.0)\n",
      "Requirement already satisfied: python-dateutil>=2.8.2 in /Users/romyilano/Developer/hackerspaces/sudoroom/octaviaButlerWorkshop/.venv/lib/python3.10/site-packages (from pandas->llama-index-core<0.11.0,>=0.10.67->llama-index->-r requirements.txt (line 9)) (2.9.0.post0)\n",
      "Requirement already satisfied: pytz>=2020.1 in /Users/romyilano/Developer/hackerspaces/sudoroom/octaviaButlerWorkshop/.venv/lib/python3.10/site-packages (from pandas->llama-index-core<0.11.0,>=0.10.67->llama-index->-r requirements.txt (line 9)) (2024.1)\n",
      "Requirement already satisfied: tzdata>=2022.7 in /Users/romyilano/Developer/hackerspaces/sudoroom/octaviaButlerWorkshop/.venv/lib/python3.10/site-packages (from pandas->llama-index-core<0.11.0,>=0.10.67->llama-index->-r requirements.txt (line 9)) (2024.1)\n",
      "Requirement already satisfied: six>=1.5 in /Users/romyilano/Developer/hackerspaces/sudoroom/octaviaButlerWorkshop/.venv/lib/python3.10/site-packages (from python-dateutil>=2.8.2->pandas->llama-index-core<0.11.0,>=0.10.67->llama-index->-r requirements.txt (line 9)) (1.16.0)\n"
     ]
    }
   ],
   "source": [
    "!pip install -r requirements.txt"
   ]
  },
  {
   "cell_type": "markdown",
   "metadata": {},
   "source": [
    "# Make sure to have Ollama installed\n",
    "\n",
    "- Go to the Ollama website\n",
    "- Download Ollama [https://ollama.com/download](https://ollama.com/download)\n",
    "\n",
    "Depending on your platform you'll have different install instructions\n",
    "\n",
    "- [https://github.com/ollama/ollama/blob/main/docs/linux.md](https://github.com/ollama/ollama/blob/main/docs/linux.md)"
   ]
  },
  {
   "cell_type": "code",
   "execution_count": 4,
   "metadata": {},
   "outputs": [],
   "source": [
    "from llama_index.core import Document, VectorStoreIndex\n",
    "from llama_index.embeddings.huggingface import HuggingFaceEmbedding\n",
    "from llama_index.core import Settings\n",
    "from llama_index.llms.ollama import Ollama"
   ]
  },
  {
   "cell_type": "markdown",
   "metadata": {},
   "source": [
    "# 2. If you have downloaded Ollama... \n",
    "\n",
    "...and it's running you should have llama3.1 already installed"
   ]
  },
  {
   "cell_type": "code",
   "execution_count": 5,
   "metadata": {},
   "outputs": [],
   "source": [
    "# ollama.pull('llama3.1:latest')"
   ]
  },
  {
   "cell_type": "markdown",
   "metadata": {},
   "source": [
    "### Set an open-source model and an embedding model\n",
    "\n",
    "You can learn more about this specific embedding model by looking at the model card on [Hugging Face for bge-small-en-v1.5](https://huggingface.co/BAAI/bge-small-en-v1.5)"
   ]
  },
  {
   "cell_type": "code",
   "execution_count": 6,
   "metadata": {},
   "outputs": [
    {
     "name": "stderr",
     "output_type": "stream",
     "text": [
      "No sentence-transformers model found with name RUCAIBox/mtl-data-to-text. Creating a new one with mean pooling.\n",
      "/Users/romyilano/Developer/hackerspaces/sudoroom/octaviaButlerWorkshop/.venv/lib/python3.10/site-packages/transformers/tokenization_utils_base.py:1601: FutureWarning: `clean_up_tokenization_spaces` was not set. It will be set to `True` by default. This behavior will be depracted in transformers v4.45, and will be then set to `False` by default. For more details check this issue: https://github.com/huggingface/transformers/issues/31884\n",
      "  warnings.warn(\n"
     ]
    }
   ],
   "source": [
    "llm = Ollama(model=\"llama3.1:latest\", request_timeout=120.0)\n",
    "embed_model_2 = \"RUCAIBox/mtl-data-to-text\"\n",
    "embed_model_1 = \"BAAI/bge-small-en-v1.5\"\n",
    "Settings.embed_model = HuggingFaceEmbedding(\n",
    "    model_name=embed_model_2\n",
    ")\n",
    "\n",
    "Settings.llm = llm"
   ]
  },
  {
   "cell_type": "markdown",
   "metadata": {},
   "source": [
    "# Let's make a tiny bunch of Documents\n",
    "\n",
    "it should have very specific information, things that an LLM such as llama or chatGPT would not have a chance to have munched in their data."
   ]
  },
  {
   "cell_type": "code",
   "execution_count": 7,
   "metadata": {},
   "outputs": [],
   "source": [
    "documents = [\n",
    "    Document(text=\"SudoRoom is a hackerspace in North Oakland.\"),\n",
    "    Document(text=\"SudoRoom's address is at 4799 Shattuck.\"),\n",
    "    Document(text=\"SudoRoom believes in Open-source\"),\n",
    "    Document(text=\"SudoRoom has 42 members.\"),\n",
    "    Document(text=\"SudoRoom is in the city of Oakland.\"),\n",
    "    Document(text=\"SudoRoom's BART station is MacArthur BART.\"),\n",
    "    Document(text=\"SudoRoom's robot arm is named Rosa\"),\n",
    "    Document(text=\"SudoRoom's has two working 3D printers\"),\n",
    "    Document(text=\"SudoRoom's laser cutter is named Big Red Laser Cutter\"),\n",
    "    Document(text=\"SudoRoom's laser cutter has a wiki page at https://sudoroom.org/wiki/Big_red_laser_cutter\")\n",
    "]"
   ]
  },
  {
   "cell_type": "markdown",
   "metadata": {},
   "source": [
    "## Add the documents to the Vector Store\n",
    "\n",
    "Here we use the LlamaIndex VectorStoreIndex. Read more about it in the [documentation](https://docs.llamaindex.ai/en/stable/module_guides/indexing/vector_store_index/) - this is the big part of the RAG process."
   ]
  },
  {
   "cell_type": "code",
   "execution_count": 8,
   "metadata": {},
   "outputs": [
    {
     "name": "stderr",
     "output_type": "stream",
     "text": [
      "huggingface/tokenizers: The current process just got forked, after parallelism has already been used. Disabling parallelism to avoid deadlocks...\n",
      "To disable this warning, you can either:\n",
      "\t- Avoid using `tokenizers` before the fork if possible\n",
      "\t- Explicitly set the environment variable TOKENIZERS_PARALLELISM=(true | false)\n"
     ]
    }
   ],
   "source": [
    "index = VectorStoreIndex(documents)"
   ]
  },
  {
   "cell_type": "markdown",
   "metadata": {},
   "source": [
    "## Turn the index into a query engine\n",
    "\n",
    "[Read more about querying here](https://docs.llamaindex.ai/en/stable/examples/retrievers/composable_retrievers/#querying)."
   ]
  },
  {
   "cell_type": "code",
   "execution_count": 9,
   "metadata": {},
   "outputs": [
    {
     "name": "stdout",
     "output_type": "stream",
     "text": [
      "42.\n",
      "4799 Shattuck.\n",
      "Oakland.\n",
      "MacArthur BART.\n"
     ]
    }
   ],
   "source": [
    "query_engine = index.as_query_engine()\n",
    "\n",
    "response1 = query_engine.query(\"How many members does SudoRoom have?\")\n",
    "print(response1)\n",
    "\n",
    "response2 = query_engine.query(\"What is SudoRoom's address?\")\n",
    "print(response2)\n",
    "\n",
    "response3 = query_engine.query(\"Which city is SudoRoom located in?\")\n",
    "print(response3)\n",
    "\n",
    "response4 = query_engine.query(\"What is the BART stations for sudoroom?\")\n",
    "print(response4)\n"
   ]
  },
  {
   "cell_type": "code",
   "execution_count": 10,
   "metadata": {},
   "outputs": [
    {
     "name": "stdout",
     "output_type": "stream",
     "text": [
      "Question: what is sudoroom\n",
      "Answer: An organization.\n",
      "Question: describe the sudoroom \n",
      "Answer: A collaborative community space with 42 members, likely focused on technology, innovation, and shared resources. They have a notable piece of equipment that's been documented online, suggesting an emphasis on openness and transparency within their operations.\n"
     ]
    }
   ],
   "source": [
    "# start a REPL loop\n",
    "while True:\n",
    "    user_input = input(\"Ask a question about the document. Type 'exit' to quit.\\n> \")\n",
    "    if user_input==\"exit\" or user_input == \"\":\n",
    "        break\n",
    "    response_answer = query_engine.query(user_input)\n",
    "    print(f\"Question: {user_input}\\nAnswer: {response_answer}\")\n",
    "  "
   ]
  }
 ],
 "metadata": {
  "kernelspec": {
   "display_name": "base",
   "language": "python",
   "name": "python3"
  },
  "language_info": {
   "codemirror_mode": {
    "name": "ipython",
    "version": 3
   },
   "file_extension": ".py",
   "mimetype": "text/x-python",
   "name": "python",
   "nbconvert_exporter": "python",
   "pygments_lexer": "ipython3",
   "version": "3.10.8"
  }
 },
 "nbformat": 4,
 "nbformat_minor": 2
}
