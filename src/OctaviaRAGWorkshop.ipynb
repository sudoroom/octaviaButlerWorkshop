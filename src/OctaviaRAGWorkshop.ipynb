{
 "cells": [
  {
   "cell_type": "markdown",
   "metadata": {},
   "source": [
    "# Octavia Butler Open-Source AI Workshop"
   ]
  },
  {
   "cell_type": "markdown",
   "metadata": {},
   "source": [
    "![images/Butler-Perret_BACK-ofbook-1.jpg](images/Butler-Perret_BACK-ofbook-1.jpg)\n",
    "\n",
    " * [Event page](https://sudoroom.org/events/women-nonbinary-hack-night-2024-08-19/) and [https://lu.ma/m3qsibqb](https://lu.ma/m3qsibqb)"
   ]
  },
  {
   "cell_type": "markdown",
   "metadata": {},
   "source": [
    "### Install necessary packages\n",
    "```pip3 install -r requirements.txt```\n",
    "    \n",
    "    \n",
    "    "
   ]
  },
  {
   "cell_type": "code",
   "execution_count": 5,
   "metadata": {},
   "outputs": [
    {
     "name": "stdout",
     "output_type": "stream",
     "text": [
      "Requirement already satisfied: torch in /Users/romyilano/Developer/hackerspaces/sudoroom/octaviaButlerWorkshop/.venv/lib/python3.10/site-packages (from -r requirements.txt (line 1)) (2.4.0)\n",
      "Requirement already satisfied: langchain-openai in /Users/romyilano/Developer/hackerspaces/sudoroom/octaviaButlerWorkshop/.venv/lib/python3.10/site-packages (from -r requirements.txt (line 2)) (0.1.22)\n",
      "Requirement already satisfied: langchain-community in /Users/romyilano/Developer/hackerspaces/sudoroom/octaviaButlerWorkshop/.venv/lib/python3.10/site-packages (from -r requirements.txt (line 3)) (0.2.12)\n",
      "Requirement already satisfied: faiss-cpu in /Users/romyilano/Developer/hackerspaces/sudoroom/octaviaButlerWorkshop/.venv/lib/python3.10/site-packages (from -r requirements.txt (line 4)) (1.8.0.post1)\n",
      "Requirement already satisfied: langchain-huggingface in /Users/romyilano/Developer/hackerspaces/sudoroom/octaviaButlerWorkshop/.venv/lib/python3.10/site-packages (from -r requirements.txt (line 5)) (0.0.3)\n",
      "Requirement already satisfied: sentence_transformers in /Users/romyilano/Developer/hackerspaces/sudoroom/octaviaButlerWorkshop/.venv/lib/python3.10/site-packages (from -r requirements.txt (line 6)) (3.0.1)\n",
      "Requirement already satisfied: langchain_ollama in /Users/romyilano/Developer/hackerspaces/sudoroom/octaviaButlerWorkshop/.venv/lib/python3.10/site-packages (from -r requirements.txt (line 7)) (0.1.1)\n",
      "Requirement already satisfied: pypdf in /Users/romyilano/Developer/hackerspaces/sudoroom/octaviaButlerWorkshop/.venv/lib/python3.10/site-packages (from -r requirements.txt (line 8)) (4.3.1)\n",
      "Requirement already satisfied: llama-index in /Users/romyilano/Developer/hackerspaces/sudoroom/octaviaButlerWorkshop/.venv/lib/python3.10/site-packages (from -r requirements.txt (line 9)) (0.10.67.post1)\n",
      "Requirement already satisfied: llama-index-embeddings-huggingface in /Users/romyilano/Developer/hackerspaces/sudoroom/octaviaButlerWorkshop/.venv/lib/python3.10/site-packages (from -r requirements.txt (line 10)) (0.2.3)\n",
      "Requirement already satisfied: llama-index-llms-ollama in /Users/romyilano/Developer/hackerspaces/sudoroom/octaviaButlerWorkshop/.venv/lib/python3.10/site-packages (from -r requirements.txt (line 11)) (0.2.2)\n",
      "Requirement already satisfied: filelock in /Users/romyilano/Developer/hackerspaces/sudoroom/octaviaButlerWorkshop/.venv/lib/python3.10/site-packages (from torch->-r requirements.txt (line 1)) (3.15.4)\n",
      "Requirement already satisfied: typing-extensions>=4.8.0 in /Users/romyilano/Developer/hackerspaces/sudoroom/octaviaButlerWorkshop/.venv/lib/python3.10/site-packages (from torch->-r requirements.txt (line 1)) (4.12.2)\n",
      "Requirement already satisfied: sympy in /Users/romyilano/Developer/hackerspaces/sudoroom/octaviaButlerWorkshop/.venv/lib/python3.10/site-packages (from torch->-r requirements.txt (line 1)) (1.13.2)\n",
      "Requirement already satisfied: networkx in /Users/romyilano/Developer/hackerspaces/sudoroom/octaviaButlerWorkshop/.venv/lib/python3.10/site-packages (from torch->-r requirements.txt (line 1)) (3.3)\n",
      "Requirement already satisfied: jinja2 in /Users/romyilano/Developer/hackerspaces/sudoroom/octaviaButlerWorkshop/.venv/lib/python3.10/site-packages (from torch->-r requirements.txt (line 1)) (3.1.4)\n",
      "Requirement already satisfied: fsspec in /Users/romyilano/Developer/hackerspaces/sudoroom/octaviaButlerWorkshop/.venv/lib/python3.10/site-packages (from torch->-r requirements.txt (line 1)) (2024.6.1)\n",
      "Requirement already satisfied: langchain-core<0.3.0,>=0.2.33 in /Users/romyilano/Developer/hackerspaces/sudoroom/octaviaButlerWorkshop/.venv/lib/python3.10/site-packages (from langchain-openai->-r requirements.txt (line 2)) (0.2.33)\n",
      "Requirement already satisfied: openai<2.0.0,>=1.40.0 in /Users/romyilano/Developer/hackerspaces/sudoroom/octaviaButlerWorkshop/.venv/lib/python3.10/site-packages (from langchain-openai->-r requirements.txt (line 2)) (1.41.0)\n",
      "Requirement already satisfied: tiktoken<1,>=0.7 in /Users/romyilano/Developer/hackerspaces/sudoroom/octaviaButlerWorkshop/.venv/lib/python3.10/site-packages (from langchain-openai->-r requirements.txt (line 2)) (0.7.0)\n",
      "Requirement already satisfied: PyYAML>=5.3 in /Users/romyilano/Developer/hackerspaces/sudoroom/octaviaButlerWorkshop/.venv/lib/python3.10/site-packages (from langchain-community->-r requirements.txt (line 3)) (6.0.2)\n",
      "Requirement already satisfied: SQLAlchemy<3,>=1.4 in /Users/romyilano/Developer/hackerspaces/sudoroom/octaviaButlerWorkshop/.venv/lib/python3.10/site-packages (from langchain-community->-r requirements.txt (line 3)) (2.0.32)\n",
      "Requirement already satisfied: aiohttp<4.0.0,>=3.8.3 in /Users/romyilano/Developer/hackerspaces/sudoroom/octaviaButlerWorkshop/.venv/lib/python3.10/site-packages (from langchain-community->-r requirements.txt (line 3)) (3.10.5)\n",
      "Requirement already satisfied: dataclasses-json<0.7,>=0.5.7 in /Users/romyilano/Developer/hackerspaces/sudoroom/octaviaButlerWorkshop/.venv/lib/python3.10/site-packages (from langchain-community->-r requirements.txt (line 3)) (0.6.7)\n",
      "Requirement already satisfied: langchain<0.3.0,>=0.2.13 in /Users/romyilano/Developer/hackerspaces/sudoroom/octaviaButlerWorkshop/.venv/lib/python3.10/site-packages (from langchain-community->-r requirements.txt (line 3)) (0.2.14)\n",
      "Requirement already satisfied: langsmith<0.2.0,>=0.1.0 in /Users/romyilano/Developer/hackerspaces/sudoroom/octaviaButlerWorkshop/.venv/lib/python3.10/site-packages (from langchain-community->-r requirements.txt (line 3)) (0.1.99)\n",
      "Requirement already satisfied: numpy<2,>=1 in /Users/romyilano/Developer/hackerspaces/sudoroom/octaviaButlerWorkshop/.venv/lib/python3.10/site-packages (from langchain-community->-r requirements.txt (line 3)) (1.26.4)\n",
      "Requirement already satisfied: requests<3,>=2 in /Users/romyilano/Developer/hackerspaces/sudoroom/octaviaButlerWorkshop/.venv/lib/python3.10/site-packages (from langchain-community->-r requirements.txt (line 3)) (2.32.3)\n",
      "Requirement already satisfied: tenacity!=8.4.0,<9.0.0,>=8.1.0 in /Users/romyilano/Developer/hackerspaces/sudoroom/octaviaButlerWorkshop/.venv/lib/python3.10/site-packages (from langchain-community->-r requirements.txt (line 3)) (8.5.0)\n",
      "Requirement already satisfied: packaging in /Users/romyilano/Developer/hackerspaces/sudoroom/octaviaButlerWorkshop/.venv/lib/python3.10/site-packages (from faiss-cpu->-r requirements.txt (line 4)) (24.1)\n",
      "Requirement already satisfied: huggingface-hub>=0.23.0 in /Users/romyilano/Developer/hackerspaces/sudoroom/octaviaButlerWorkshop/.venv/lib/python3.10/site-packages (from langchain-huggingface->-r requirements.txt (line 5)) (0.24.6)\n",
      "Requirement already satisfied: tokenizers>=0.19.1 in /Users/romyilano/Developer/hackerspaces/sudoroom/octaviaButlerWorkshop/.venv/lib/python3.10/site-packages (from langchain-huggingface->-r requirements.txt (line 5)) (0.19.1)\n",
      "Requirement already satisfied: transformers>=4.39.0 in /Users/romyilano/Developer/hackerspaces/sudoroom/octaviaButlerWorkshop/.venv/lib/python3.10/site-packages (from langchain-huggingface->-r requirements.txt (line 5)) (4.44.0)\n",
      "Requirement already satisfied: tqdm in /Users/romyilano/Developer/hackerspaces/sudoroom/octaviaButlerWorkshop/.venv/lib/python3.10/site-packages (from sentence_transformers->-r requirements.txt (line 6)) (4.66.5)\n",
      "Requirement already satisfied: scikit-learn in /Users/romyilano/Developer/hackerspaces/sudoroom/octaviaButlerWorkshop/.venv/lib/python3.10/site-packages (from sentence_transformers->-r requirements.txt (line 6)) (1.5.1)\n",
      "Requirement already satisfied: scipy in /Users/romyilano/Developer/hackerspaces/sudoroom/octaviaButlerWorkshop/.venv/lib/python3.10/site-packages (from sentence_transformers->-r requirements.txt (line 6)) (1.14.0)\n",
      "Requirement already satisfied: Pillow in /Users/romyilano/Developer/hackerspaces/sudoroom/octaviaButlerWorkshop/.venv/lib/python3.10/site-packages (from sentence_transformers->-r requirements.txt (line 6)) (10.4.0)\n",
      "Requirement already satisfied: ollama<1,>=0.3.0 in /Users/romyilano/Developer/hackerspaces/sudoroom/octaviaButlerWorkshop/.venv/lib/python3.10/site-packages (from langchain_ollama->-r requirements.txt (line 7)) (0.3.1)\n",
      "Requirement already satisfied: llama-index-agent-openai<0.3.0,>=0.1.4 in /Users/romyilano/Developer/hackerspaces/sudoroom/octaviaButlerWorkshop/.venv/lib/python3.10/site-packages (from llama-index->-r requirements.txt (line 9)) (0.2.9)\n",
      "Requirement already satisfied: llama-index-cli<0.2.0,>=0.1.2 in /Users/romyilano/Developer/hackerspaces/sudoroom/octaviaButlerWorkshop/.venv/lib/python3.10/site-packages (from llama-index->-r requirements.txt (line 9)) (0.1.13)\n",
      "Requirement already satisfied: llama-index-core<0.11.0,>=0.10.67 in /Users/romyilano/Developer/hackerspaces/sudoroom/octaviaButlerWorkshop/.venv/lib/python3.10/site-packages (from llama-index->-r requirements.txt (line 9)) (0.10.67)\n",
      "Requirement already satisfied: llama-index-embeddings-openai<0.2.0,>=0.1.5 in /Users/romyilano/Developer/hackerspaces/sudoroom/octaviaButlerWorkshop/.venv/lib/python3.10/site-packages (from llama-index->-r requirements.txt (line 9)) (0.1.11)\n",
      "Requirement already satisfied: llama-index-indices-managed-llama-cloud>=0.2.0 in /Users/romyilano/Developer/hackerspaces/sudoroom/octaviaButlerWorkshop/.venv/lib/python3.10/site-packages (from llama-index->-r requirements.txt (line 9)) (0.2.7)\n",
      "Requirement already satisfied: llama-index-legacy<0.10.0,>=0.9.48 in /Users/romyilano/Developer/hackerspaces/sudoroom/octaviaButlerWorkshop/.venv/lib/python3.10/site-packages (from llama-index->-r requirements.txt (line 9)) (0.9.48.post3)\n",
      "Requirement already satisfied: llama-index-llms-openai<0.2.0,>=0.1.27 in /Users/romyilano/Developer/hackerspaces/sudoroom/octaviaButlerWorkshop/.venv/lib/python3.10/site-packages (from llama-index->-r requirements.txt (line 9)) (0.1.29)\n",
      "Requirement already satisfied: llama-index-multi-modal-llms-openai<0.2.0,>=0.1.3 in /Users/romyilano/Developer/hackerspaces/sudoroom/octaviaButlerWorkshop/.venv/lib/python3.10/site-packages (from llama-index->-r requirements.txt (line 9)) (0.1.9)\n",
      "Requirement already satisfied: llama-index-program-openai<0.2.0,>=0.1.3 in /Users/romyilano/Developer/hackerspaces/sudoroom/octaviaButlerWorkshop/.venv/lib/python3.10/site-packages (from llama-index->-r requirements.txt (line 9)) (0.1.7)\n",
      "Requirement already satisfied: llama-index-question-gen-openai<0.2.0,>=0.1.2 in /Users/romyilano/Developer/hackerspaces/sudoroom/octaviaButlerWorkshop/.venv/lib/python3.10/site-packages (from llama-index->-r requirements.txt (line 9)) (0.1.3)\n",
      "Requirement already satisfied: llama-index-readers-file<0.2.0,>=0.1.4 in /Users/romyilano/Developer/hackerspaces/sudoroom/octaviaButlerWorkshop/.venv/lib/python3.10/site-packages (from llama-index->-r requirements.txt (line 9)) (0.1.33)\n",
      "Requirement already satisfied: llama-index-readers-llama-parse>=0.1.2 in /Users/romyilano/Developer/hackerspaces/sudoroom/octaviaButlerWorkshop/.venv/lib/python3.10/site-packages (from llama-index->-r requirements.txt (line 9)) (0.1.6)\n",
      "Requirement already satisfied: aiohappyeyeballs>=2.3.0 in /Users/romyilano/Developer/hackerspaces/sudoroom/octaviaButlerWorkshop/.venv/lib/python3.10/site-packages (from aiohttp<4.0.0,>=3.8.3->langchain-community->-r requirements.txt (line 3)) (2.4.0)\n",
      "Requirement already satisfied: aiosignal>=1.1.2 in /Users/romyilano/Developer/hackerspaces/sudoroom/octaviaButlerWorkshop/.venv/lib/python3.10/site-packages (from aiohttp<4.0.0,>=3.8.3->langchain-community->-r requirements.txt (line 3)) (1.3.1)\n",
      "Requirement already satisfied: attrs>=17.3.0 in /Users/romyilano/Developer/hackerspaces/sudoroom/octaviaButlerWorkshop/.venv/lib/python3.10/site-packages (from aiohttp<4.0.0,>=3.8.3->langchain-community->-r requirements.txt (line 3)) (24.2.0)\n",
      "Requirement already satisfied: frozenlist>=1.1.1 in /Users/romyilano/Developer/hackerspaces/sudoroom/octaviaButlerWorkshop/.venv/lib/python3.10/site-packages (from aiohttp<4.0.0,>=3.8.3->langchain-community->-r requirements.txt (line 3)) (1.4.1)\n",
      "Requirement already satisfied: multidict<7.0,>=4.5 in /Users/romyilano/Developer/hackerspaces/sudoroom/octaviaButlerWorkshop/.venv/lib/python3.10/site-packages (from aiohttp<4.0.0,>=3.8.3->langchain-community->-r requirements.txt (line 3)) (6.0.5)\n",
      "Requirement already satisfied: yarl<2.0,>=1.0 in /Users/romyilano/Developer/hackerspaces/sudoroom/octaviaButlerWorkshop/.venv/lib/python3.10/site-packages (from aiohttp<4.0.0,>=3.8.3->langchain-community->-r requirements.txt (line 3)) (1.9.4)\n",
      "Requirement already satisfied: async-timeout<5.0,>=4.0 in /Users/romyilano/Developer/hackerspaces/sudoroom/octaviaButlerWorkshop/.venv/lib/python3.10/site-packages (from aiohttp<4.0.0,>=3.8.3->langchain-community->-r requirements.txt (line 3)) (4.0.3)\n",
      "Requirement already satisfied: marshmallow<4.0.0,>=3.18.0 in /Users/romyilano/Developer/hackerspaces/sudoroom/octaviaButlerWorkshop/.venv/lib/python3.10/site-packages (from dataclasses-json<0.7,>=0.5.7->langchain-community->-r requirements.txt (line 3)) (3.21.3)\n",
      "Requirement already satisfied: typing-inspect<1,>=0.4.0 in /Users/romyilano/Developer/hackerspaces/sudoroom/octaviaButlerWorkshop/.venv/lib/python3.10/site-packages (from dataclasses-json<0.7,>=0.5.7->langchain-community->-r requirements.txt (line 3)) (0.9.0)\n",
      "Requirement already satisfied: minijinja>=1.0 in /Users/romyilano/Developer/hackerspaces/sudoroom/octaviaButlerWorkshop/.venv/lib/python3.10/site-packages (from huggingface-hub[inference]>=0.19.0->llama-index-embeddings-huggingface->-r requirements.txt (line 10)) (2.0.1)\n",
      "Requirement already satisfied: langchain-text-splitters<0.3.0,>=0.2.0 in /Users/romyilano/Developer/hackerspaces/sudoroom/octaviaButlerWorkshop/.venv/lib/python3.10/site-packages (from langchain<0.3.0,>=0.2.13->langchain-community->-r requirements.txt (line 3)) (0.2.2)\n",
      "Requirement already satisfied: pydantic<3,>=1 in /Users/romyilano/Developer/hackerspaces/sudoroom/octaviaButlerWorkshop/.venv/lib/python3.10/site-packages (from langchain<0.3.0,>=0.2.13->langchain-community->-r requirements.txt (line 3)) (2.8.2)\n",
      "Requirement already satisfied: jsonpatch<2.0,>=1.33 in /Users/romyilano/Developer/hackerspaces/sudoroom/octaviaButlerWorkshop/.venv/lib/python3.10/site-packages (from langchain-core<0.3.0,>=0.2.33->langchain-openai->-r requirements.txt (line 2)) (1.33)\n",
      "Requirement already satisfied: orjson<4.0.0,>=3.9.14 in /Users/romyilano/Developer/hackerspaces/sudoroom/octaviaButlerWorkshop/.venv/lib/python3.10/site-packages (from langsmith<0.2.0,>=0.1.0->langchain-community->-r requirements.txt (line 3)) (3.10.7)\n",
      "Requirement already satisfied: deprecated>=1.2.9.3 in /Users/romyilano/Developer/hackerspaces/sudoroom/octaviaButlerWorkshop/.venv/lib/python3.10/site-packages (from llama-index-core<0.11.0,>=0.10.67->llama-index->-r requirements.txt (line 9)) (1.2.14)\n",
      "Requirement already satisfied: dirtyjson<2.0.0,>=1.0.8 in /Users/romyilano/Developer/hackerspaces/sudoroom/octaviaButlerWorkshop/.venv/lib/python3.10/site-packages (from llama-index-core<0.11.0,>=0.10.67->llama-index->-r requirements.txt (line 9)) (1.0.8)\n",
      "Requirement already satisfied: httpx in /Users/romyilano/Developer/hackerspaces/sudoroom/octaviaButlerWorkshop/.venv/lib/python3.10/site-packages (from llama-index-core<0.11.0,>=0.10.67->llama-index->-r requirements.txt (line 9)) (0.27.0)\n",
      "Requirement already satisfied: nest-asyncio<2.0.0,>=1.5.8 in /Users/romyilano/Developer/hackerspaces/sudoroom/octaviaButlerWorkshop/.venv/lib/python3.10/site-packages (from llama-index-core<0.11.0,>=0.10.67->llama-index->-r requirements.txt (line 9)) (1.6.0)\n",
      "Requirement already satisfied: nltk!=3.9,>=3.8.1 in /Users/romyilano/Developer/hackerspaces/sudoroom/octaviaButlerWorkshop/.venv/lib/python3.10/site-packages (from llama-index-core<0.11.0,>=0.10.67->llama-index->-r requirements.txt (line 9)) (3.9.1)\n",
      "Requirement already satisfied: pandas in /Users/romyilano/Developer/hackerspaces/sudoroom/octaviaButlerWorkshop/.venv/lib/python3.10/site-packages (from llama-index-core<0.11.0,>=0.10.67->llama-index->-r requirements.txt (line 9)) (2.2.2)\n",
      "Requirement already satisfied: wrapt in /Users/romyilano/Developer/hackerspaces/sudoroom/octaviaButlerWorkshop/.venv/lib/python3.10/site-packages (from llama-index-core<0.11.0,>=0.10.67->llama-index->-r requirements.txt (line 9)) (1.16.0)\n",
      "Requirement already satisfied: llama-cloud>=0.0.11 in /Users/romyilano/Developer/hackerspaces/sudoroom/octaviaButlerWorkshop/.venv/lib/python3.10/site-packages (from llama-index-indices-managed-llama-cloud>=0.2.0->llama-index->-r requirements.txt (line 9)) (0.0.13)\n",
      "Requirement already satisfied: beautifulsoup4<5.0.0,>=4.12.3 in /Users/romyilano/Developer/hackerspaces/sudoroom/octaviaButlerWorkshop/.venv/lib/python3.10/site-packages (from llama-index-readers-file<0.2.0,>=0.1.4->llama-index->-r requirements.txt (line 9)) (4.12.3)\n",
      "Requirement already satisfied: striprtf<0.0.27,>=0.0.26 in /Users/romyilano/Developer/hackerspaces/sudoroom/octaviaButlerWorkshop/.venv/lib/python3.10/site-packages (from llama-index-readers-file<0.2.0,>=0.1.4->llama-index->-r requirements.txt (line 9)) (0.0.26)\n",
      "Requirement already satisfied: llama-parse>=0.4.0 in /Users/romyilano/Developer/hackerspaces/sudoroom/octaviaButlerWorkshop/.venv/lib/python3.10/site-packages (from llama-index-readers-llama-parse>=0.1.2->llama-index->-r requirements.txt (line 9)) (0.4.9)\n",
      "Requirement already satisfied: anyio<5,>=3.5.0 in /Users/romyilano/Developer/hackerspaces/sudoroom/octaviaButlerWorkshop/.venv/lib/python3.10/site-packages (from openai<2.0.0,>=1.40.0->langchain-openai->-r requirements.txt (line 2)) (4.4.0)\n",
      "Requirement already satisfied: distro<2,>=1.7.0 in /Users/romyilano/Developer/hackerspaces/sudoroom/octaviaButlerWorkshop/.venv/lib/python3.10/site-packages (from openai<2.0.0,>=1.40.0->langchain-openai->-r requirements.txt (line 2)) (1.9.0)\n",
      "Requirement already satisfied: jiter<1,>=0.4.0 in /Users/romyilano/Developer/hackerspaces/sudoroom/octaviaButlerWorkshop/.venv/lib/python3.10/site-packages (from openai<2.0.0,>=1.40.0->langchain-openai->-r requirements.txt (line 2)) (0.5.0)\n",
      "Requirement already satisfied: sniffio in /Users/romyilano/Developer/hackerspaces/sudoroom/octaviaButlerWorkshop/.venv/lib/python3.10/site-packages (from openai<2.0.0,>=1.40.0->langchain-openai->-r requirements.txt (line 2)) (1.3.1)\n",
      "Requirement already satisfied: charset-normalizer<4,>=2 in /Users/romyilano/Developer/hackerspaces/sudoroom/octaviaButlerWorkshop/.venv/lib/python3.10/site-packages (from requests<3,>=2->langchain-community->-r requirements.txt (line 3)) (3.3.2)\n",
      "Requirement already satisfied: idna<4,>=2.5 in /Users/romyilano/Developer/hackerspaces/sudoroom/octaviaButlerWorkshop/.venv/lib/python3.10/site-packages (from requests<3,>=2->langchain-community->-r requirements.txt (line 3)) (3.7)\n",
      "Requirement already satisfied: urllib3<3,>=1.21.1 in /Users/romyilano/Developer/hackerspaces/sudoroom/octaviaButlerWorkshop/.venv/lib/python3.10/site-packages (from requests<3,>=2->langchain-community->-r requirements.txt (line 3)) (2.2.2)\n",
      "Requirement already satisfied: certifi>=2017.4.17 in /Users/romyilano/Developer/hackerspaces/sudoroom/octaviaButlerWorkshop/.venv/lib/python3.10/site-packages (from requests<3,>=2->langchain-community->-r requirements.txt (line 3)) (2024.7.4)\n",
      "Requirement already satisfied: regex>=2022.1.18 in /Users/romyilano/Developer/hackerspaces/sudoroom/octaviaButlerWorkshop/.venv/lib/python3.10/site-packages (from tiktoken<1,>=0.7->langchain-openai->-r requirements.txt (line 2)) (2024.7.24)\n",
      "Requirement already satisfied: safetensors>=0.4.1 in /Users/romyilano/Developer/hackerspaces/sudoroom/octaviaButlerWorkshop/.venv/lib/python3.10/site-packages (from transformers>=4.39.0->langchain-huggingface->-r requirements.txt (line 5)) (0.4.4)\n",
      "Requirement already satisfied: MarkupSafe>=2.0 in /Users/romyilano/Developer/hackerspaces/sudoroom/octaviaButlerWorkshop/.venv/lib/python3.10/site-packages (from jinja2->torch->-r requirements.txt (line 1)) (2.1.5)\n",
      "Requirement already satisfied: joblib>=1.2.0 in /Users/romyilano/Developer/hackerspaces/sudoroom/octaviaButlerWorkshop/.venv/lib/python3.10/site-packages (from scikit-learn->sentence_transformers->-r requirements.txt (line 6)) (1.4.2)\n",
      "Requirement already satisfied: threadpoolctl>=3.1.0 in /Users/romyilano/Developer/hackerspaces/sudoroom/octaviaButlerWorkshop/.venv/lib/python3.10/site-packages (from scikit-learn->sentence_transformers->-r requirements.txt (line 6)) (3.5.0)\n",
      "Requirement already satisfied: mpmath<1.4,>=1.1.0 in /Users/romyilano/Developer/hackerspaces/sudoroom/octaviaButlerWorkshop/.venv/lib/python3.10/site-packages (from sympy->torch->-r requirements.txt (line 1)) (1.3.0)\n",
      "Requirement already satisfied: exceptiongroup>=1.0.2 in /Users/romyilano/Developer/hackerspaces/sudoroom/octaviaButlerWorkshop/.venv/lib/python3.10/site-packages (from anyio<5,>=3.5.0->openai<2.0.0,>=1.40.0->langchain-openai->-r requirements.txt (line 2)) (1.2.2)\n",
      "Requirement already satisfied: soupsieve>1.2 in /Users/romyilano/Developer/hackerspaces/sudoroom/octaviaButlerWorkshop/.venv/lib/python3.10/site-packages (from beautifulsoup4<5.0.0,>=4.12.3->llama-index-readers-file<0.2.0,>=0.1.4->llama-index->-r requirements.txt (line 9)) (2.6)\n",
      "Requirement already satisfied: httpcore==1.* in /Users/romyilano/Developer/hackerspaces/sudoroom/octaviaButlerWorkshop/.venv/lib/python3.10/site-packages (from httpx->llama-index-core<0.11.0,>=0.10.67->llama-index->-r requirements.txt (line 9)) (1.0.5)\n",
      "Requirement already satisfied: h11<0.15,>=0.13 in /Users/romyilano/Developer/hackerspaces/sudoroom/octaviaButlerWorkshop/.venv/lib/python3.10/site-packages (from httpcore==1.*->httpx->llama-index-core<0.11.0,>=0.10.67->llama-index->-r requirements.txt (line 9)) (0.14.0)\n",
      "Requirement already satisfied: jsonpointer>=1.9 in /Users/romyilano/Developer/hackerspaces/sudoroom/octaviaButlerWorkshop/.venv/lib/python3.10/site-packages (from jsonpatch<2.0,>=1.33->langchain-core<0.3.0,>=0.2.33->langchain-openai->-r requirements.txt (line 2)) (3.0.0)\n",
      "Requirement already satisfied: click in /Users/romyilano/Developer/hackerspaces/sudoroom/octaviaButlerWorkshop/.venv/lib/python3.10/site-packages (from nltk!=3.9,>=3.8.1->llama-index-core<0.11.0,>=0.10.67->llama-index->-r requirements.txt (line 9)) (8.1.7)\n",
      "Requirement already satisfied: annotated-types>=0.4.0 in /Users/romyilano/Developer/hackerspaces/sudoroom/octaviaButlerWorkshop/.venv/lib/python3.10/site-packages (from pydantic<3,>=1->langchain<0.3.0,>=0.2.13->langchain-community->-r requirements.txt (line 3)) (0.7.0)\n",
      "Requirement already satisfied: pydantic-core==2.20.1 in /Users/romyilano/Developer/hackerspaces/sudoroom/octaviaButlerWorkshop/.venv/lib/python3.10/site-packages (from pydantic<3,>=1->langchain<0.3.0,>=0.2.13->langchain-community->-r requirements.txt (line 3)) (2.20.1)\n",
      "Requirement already satisfied: greenlet!=0.4.17 in /Users/romyilano/Developer/hackerspaces/sudoroom/octaviaButlerWorkshop/.venv/lib/python3.10/site-packages (from SQLAlchemy[asyncio]>=1.4.49->llama-index-core<0.11.0,>=0.10.67->llama-index->-r requirements.txt (line 9)) (3.0.3)\n",
      "Requirement already satisfied: mypy-extensions>=0.3.0 in /Users/romyilano/Developer/hackerspaces/sudoroom/octaviaButlerWorkshop/.venv/lib/python3.10/site-packages (from typing-inspect<1,>=0.4.0->dataclasses-json<0.7,>=0.5.7->langchain-community->-r requirements.txt (line 3)) (1.0.0)\n",
      "Requirement already satisfied: python-dateutil>=2.8.2 in /Users/romyilano/Developer/hackerspaces/sudoroom/octaviaButlerWorkshop/.venv/lib/python3.10/site-packages (from pandas->llama-index-core<0.11.0,>=0.10.67->llama-index->-r requirements.txt (line 9)) (2.9.0.post0)\n",
      "Requirement already satisfied: pytz>=2020.1 in /Users/romyilano/Developer/hackerspaces/sudoroom/octaviaButlerWorkshop/.venv/lib/python3.10/site-packages (from pandas->llama-index-core<0.11.0,>=0.10.67->llama-index->-r requirements.txt (line 9)) (2024.1)\n",
      "Requirement already satisfied: tzdata>=2022.7 in /Users/romyilano/Developer/hackerspaces/sudoroom/octaviaButlerWorkshop/.venv/lib/python3.10/site-packages (from pandas->llama-index-core<0.11.0,>=0.10.67->llama-index->-r requirements.txt (line 9)) (2024.1)\n",
      "Requirement already satisfied: six>=1.5 in /Users/romyilano/Developer/hackerspaces/sudoroom/octaviaButlerWorkshop/.venv/lib/python3.10/site-packages (from python-dateutil>=2.8.2->pandas->llama-index-core<0.11.0,>=0.10.67->llama-index->-r requirements.txt (line 9)) (1.16.0)\n"
     ]
    }
   ],
   "source": [
    "!pip install -r requirements.txt"
   ]
  },
  {
   "cell_type": "markdown",
   "metadata": {},
   "source": [
    "# Make sure to have Ollama installed\n",
    "\n",
    "- Go to the Ollama website\n",
    "- Download Ollama [https://ollama.com/download](https://ollama.com/download)\n",
    "\n",
    "Depending on your platform you'll have different install instructions\n",
    "\n",
    "- [https://github.com/ollama/ollama/blob/main/docs/linux.md](https://github.com/ollama/ollama/blob/main/docs/linux.md)"
   ]
  },
  {
   "cell_type": "code",
   "execution_count": 6,
   "metadata": {},
   "outputs": [],
   "source": [
    "from llama_index.core import Document, VectorStoreIndex\n",
    "from llama_index.embeddings.huggingface import HuggingFaceEmbedding\n",
    "from llama_index.core import Settings\n",
    "from llama_index.llms.ollama import Ollama"
   ]
  },
  {
   "cell_type": "markdown",
   "metadata": {},
   "source": [
    "# 2. If you have downloaded Ollama... \n",
    "\n",
    "...and it's running you should have llama3.1 already installed"
   ]
  },
  {
   "cell_type": "code",
   "execution_count": 7,
   "metadata": {},
   "outputs": [],
   "source": [
    "# ollama.pull('llama3.1:latest')"
   ]
  },
  {
   "cell_type": "markdown",
   "metadata": {},
   "source": [
    "### Set an open-source model and an embedding model\n",
    "\n",
    "You can learn more about this specific embedding model by looking at the model card on [Hugging Face for bge-small-en-v1.5](https://huggingface.co/BAAI/bge-small-en-v1.5)"
   ]
  },
  {
   "cell_type": "code",
   "execution_count": 8,
   "metadata": {},
   "outputs": [],
   "source": [
    "llm = Ollama(model=\"llama3.1:latest\", request_timeout=120.0)\n",
    "\n",
    "Settings.embed_model = HuggingFaceEmbedding(\n",
    "    model_name=\"BAAI/bge-small-en-v1.5\"\n",
    ")\n",
    "\n",
    "Settings.llm = llm"
   ]
  },
  {
   "cell_type": "markdown",
   "metadata": {},
   "source": [
    "# Let's make a tiny bunch of Documents\n",
    "\n",
    "it should have very specific information, things that an LLM such as llama or chatGPT would not have a chance to have munched in their data."
   ]
  },
  {
   "cell_type": "code",
   "execution_count": 9,
   "metadata": {},
   "outputs": [],
   "source": [
    "documents = [\n",
    "    Document(text=\"SudoRoom is a hackerspace in North Oakland.\"),\n",
    "    Document(text=\"SudoRoom's address is at 4799 Shattuck.\"),\n",
    "    Document(text=\"SudoRoom believes in Open-source\"),\n",
    "    Document(text=\"SudoRoom has 42 members.\"),\n",
    "    Document(text=\"SudoRoom is in the city of Oakland.\"),\n",
    "    Document(text=\"SudoRoom's BART station is MacArthur BART.\"),\n",
    "    Document(text=\"SudoRoom's robot arm is named Rosa\"),\n",
    "    Document(text=\"SudoRoom's has two working 3D printers\"),\n",
    "    Document(text=\"SudoRoom's laser cutter is named Big Red Laser Cutter\"),\n",
    "    Document(text=\"SudoRoom's laser cutter has a wiki page at https://sudoroom.org/wiki/Big_red_laser_cutter\")\n",
    "]"
   ]
  },
  {
   "cell_type": "markdown",
   "metadata": {},
   "source": [
    "## Add the documents to the Vector Store\n",
    "\n",
    "Here we use the LlamaIndex VectorStoreIndex. Read more about it in the [documentation](https://docs.llamaindex.ai/en/stable/module_guides/indexing/vector_store_index/) - this is the big part of the RAG process."
   ]
  },
  {
   "cell_type": "code",
   "execution_count": 14,
   "metadata": {},
   "outputs": [],
   "source": [
    "index = VectorStoreIndex(documents)"
   ]
  },
  {
   "cell_type": "markdown",
   "metadata": {},
   "source": [
    "## Turn the index into a query engine\n",
    "\n",
    "[Read more about querying here](https://docs.llamaindex.ai/en/stable/examples/retrievers/composable_retrievers/#querying)."
   ]
  },
  {
   "cell_type": "code",
   "execution_count": 18,
   "metadata": {},
   "outputs": [
    {
     "name": "stdout",
     "output_type": "stream",
     "text": [
      "42 members.\n",
      "4799 Shattuck.\n",
      "Oakland.\n",
      "MacArthur.\n"
     ]
    }
   ],
   "source": [
    "query_engine = index.as_query_engine()\n",
    "\n",
    "response1 = query_engine.query(\"How many members does SudoRoom have?\")\n",
    "print(response1)\n",
    "\n",
    "response2 = query_engine.query(\"What is SudoRoom's address?\")\n",
    "print(response2)\n",
    "\n",
    "response3 = query_engine.query(\"Which city is SudoRoom located in?\")\n",
    "print(response3)\n",
    "\n",
    "response4 = query_engine.query(\"What is the BART stations for sudoroom?\")\n",
    "print(response4)\n"
   ]
  },
  {
   "cell_type": "code",
   "execution_count": 20,
   "metadata": {},
   "outputs": [
    {
     "name": "stdout",
     "output_type": "stream",
     "text": [
      "Question: what's the robot arm named?\n",
      "Answer: Rosa.\n"
     ]
    },
    {
     "ename": "TypeError",
     "evalue": "unsupported operand type(s) for *: 'NoneType' and 'float'",
     "output_type": "error",
     "traceback": [
      "\u001b[0;31m---------------------------------------------------------------------------\u001b[0m",
      "\u001b[0;31mTypeError\u001b[0m                                 Traceback (most recent call last)",
      "Cell \u001b[0;32mIn[20], line 6\u001b[0m\n\u001b[1;32m      4\u001b[0m \u001b[38;5;28;01mif\u001b[39;00m user_input\u001b[38;5;241m==\u001b[39m\u001b[38;5;124m\"\u001b[39m\u001b[38;5;124mexit\u001b[39m\u001b[38;5;124m\"\u001b[39m \u001b[38;5;129;01mor\u001b[39;00m \u001b[38;5;124m\"\u001b[39m\u001b[38;5;124m\"\u001b[39m:\n\u001b[1;32m      5\u001b[0m     \u001b[38;5;28;01mbreak\u001b[39;00m\n\u001b[0;32m----> 6\u001b[0m response_answer \u001b[38;5;241m=\u001b[39m \u001b[43mquery_engine\u001b[49m\u001b[38;5;241;43m.\u001b[39;49m\u001b[43mquery\u001b[49m\u001b[43m(\u001b[49m\u001b[43muser_input\u001b[49m\u001b[43m)\u001b[49m\n\u001b[1;32m      7\u001b[0m \u001b[38;5;28mprint\u001b[39m(\u001b[38;5;124mf\u001b[39m\u001b[38;5;124m\"\u001b[39m\u001b[38;5;124mQuestion: \u001b[39m\u001b[38;5;132;01m{\u001b[39;00muser_input\u001b[38;5;132;01m}\u001b[39;00m\u001b[38;5;130;01m\\n\u001b[39;00m\u001b[38;5;124mAnswer: \u001b[39m\u001b[38;5;132;01m{\u001b[39;00mresponse_answer\u001b[38;5;132;01m}\u001b[39;00m\u001b[38;5;124m\"\u001b[39m)\n",
      "File \u001b[0;32m~/Developer/hackerspaces/sudoroom/octaviaButlerWorkshop/.venv/lib/python3.10/site-packages/llama_index/core/instrumentation/dispatcher.py:260\u001b[0m, in \u001b[0;36mDispatcher.span.<locals>.wrapper\u001b[0;34m(func, instance, args, kwargs)\u001b[0m\n\u001b[1;32m    252\u001b[0m \u001b[38;5;28mself\u001b[39m\u001b[38;5;241m.\u001b[39mspan_enter(\n\u001b[1;32m    253\u001b[0m     id_\u001b[38;5;241m=\u001b[39mid_,\n\u001b[1;32m    254\u001b[0m     bound_args\u001b[38;5;241m=\u001b[39mbound_args,\n\u001b[0;32m   (...)\u001b[0m\n\u001b[1;32m    257\u001b[0m     tags\u001b[38;5;241m=\u001b[39mtags,\n\u001b[1;32m    258\u001b[0m )\n\u001b[1;32m    259\u001b[0m \u001b[38;5;28;01mtry\u001b[39;00m:\n\u001b[0;32m--> 260\u001b[0m     result \u001b[38;5;241m=\u001b[39m \u001b[43mfunc\u001b[49m\u001b[43m(\u001b[49m\u001b[38;5;241;43m*\u001b[39;49m\u001b[43margs\u001b[49m\u001b[43m,\u001b[49m\u001b[43m \u001b[49m\u001b[38;5;241;43m*\u001b[39;49m\u001b[38;5;241;43m*\u001b[39;49m\u001b[43mkwargs\u001b[49m\u001b[43m)\u001b[49m\n\u001b[1;32m    261\u001b[0m \u001b[38;5;28;01mexcept\u001b[39;00m \u001b[38;5;167;01mBaseException\u001b[39;00m \u001b[38;5;28;01mas\u001b[39;00m e:\n\u001b[1;32m    262\u001b[0m     \u001b[38;5;28mself\u001b[39m\u001b[38;5;241m.\u001b[39mevent(SpanDropEvent(span_id\u001b[38;5;241m=\u001b[39mid_, err_str\u001b[38;5;241m=\u001b[39m\u001b[38;5;28mstr\u001b[39m(e)))\n",
      "File \u001b[0;32m~/Developer/hackerspaces/sudoroom/octaviaButlerWorkshop/.venv/lib/python3.10/site-packages/llama_index/core/base/base_query_engine.py:52\u001b[0m, in \u001b[0;36mBaseQueryEngine.query\u001b[0;34m(self, str_or_query_bundle)\u001b[0m\n\u001b[1;32m     50\u001b[0m     \u001b[38;5;28;01mif\u001b[39;00m \u001b[38;5;28misinstance\u001b[39m(str_or_query_bundle, \u001b[38;5;28mstr\u001b[39m):\n\u001b[1;32m     51\u001b[0m         str_or_query_bundle \u001b[38;5;241m=\u001b[39m QueryBundle(str_or_query_bundle)\n\u001b[0;32m---> 52\u001b[0m     query_result \u001b[38;5;241m=\u001b[39m \u001b[38;5;28;43mself\u001b[39;49m\u001b[38;5;241;43m.\u001b[39;49m\u001b[43m_query\u001b[49m\u001b[43m(\u001b[49m\u001b[43mstr_or_query_bundle\u001b[49m\u001b[43m)\u001b[49m\n\u001b[1;32m     53\u001b[0m dispatcher\u001b[38;5;241m.\u001b[39mevent(\n\u001b[1;32m     54\u001b[0m     QueryEndEvent(query\u001b[38;5;241m=\u001b[39mstr_or_query_bundle, response\u001b[38;5;241m=\u001b[39mquery_result)\n\u001b[1;32m     55\u001b[0m )\n\u001b[1;32m     56\u001b[0m \u001b[38;5;28;01mreturn\u001b[39;00m query_result\n",
      "File \u001b[0;32m~/Developer/hackerspaces/sudoroom/octaviaButlerWorkshop/.venv/lib/python3.10/site-packages/llama_index/core/instrumentation/dispatcher.py:260\u001b[0m, in \u001b[0;36mDispatcher.span.<locals>.wrapper\u001b[0;34m(func, instance, args, kwargs)\u001b[0m\n\u001b[1;32m    252\u001b[0m \u001b[38;5;28mself\u001b[39m\u001b[38;5;241m.\u001b[39mspan_enter(\n\u001b[1;32m    253\u001b[0m     id_\u001b[38;5;241m=\u001b[39mid_,\n\u001b[1;32m    254\u001b[0m     bound_args\u001b[38;5;241m=\u001b[39mbound_args,\n\u001b[0;32m   (...)\u001b[0m\n\u001b[1;32m    257\u001b[0m     tags\u001b[38;5;241m=\u001b[39mtags,\n\u001b[1;32m    258\u001b[0m )\n\u001b[1;32m    259\u001b[0m \u001b[38;5;28;01mtry\u001b[39;00m:\n\u001b[0;32m--> 260\u001b[0m     result \u001b[38;5;241m=\u001b[39m \u001b[43mfunc\u001b[49m\u001b[43m(\u001b[49m\u001b[38;5;241;43m*\u001b[39;49m\u001b[43margs\u001b[49m\u001b[43m,\u001b[49m\u001b[43m \u001b[49m\u001b[38;5;241;43m*\u001b[39;49m\u001b[38;5;241;43m*\u001b[39;49m\u001b[43mkwargs\u001b[49m\u001b[43m)\u001b[49m\n\u001b[1;32m    261\u001b[0m \u001b[38;5;28;01mexcept\u001b[39;00m \u001b[38;5;167;01mBaseException\u001b[39;00m \u001b[38;5;28;01mas\u001b[39;00m e:\n\u001b[1;32m    262\u001b[0m     \u001b[38;5;28mself\u001b[39m\u001b[38;5;241m.\u001b[39mevent(SpanDropEvent(span_id\u001b[38;5;241m=\u001b[39mid_, err_str\u001b[38;5;241m=\u001b[39m\u001b[38;5;28mstr\u001b[39m(e)))\n",
      "File \u001b[0;32m~/Developer/hackerspaces/sudoroom/octaviaButlerWorkshop/.venv/lib/python3.10/site-packages/llama_index/core/query_engine/retriever_query_engine.py:189\u001b[0m, in \u001b[0;36mRetrieverQueryEngine._query\u001b[0;34m(self, query_bundle)\u001b[0m\n\u001b[1;32m    185\u001b[0m \u001b[38;5;250m\u001b[39m\u001b[38;5;124;03m\"\"\"Answer a query.\"\"\"\u001b[39;00m\n\u001b[1;32m    186\u001b[0m \u001b[38;5;28;01mwith\u001b[39;00m \u001b[38;5;28mself\u001b[39m\u001b[38;5;241m.\u001b[39mcallback_manager\u001b[38;5;241m.\u001b[39mevent(\n\u001b[1;32m    187\u001b[0m     CBEventType\u001b[38;5;241m.\u001b[39mQUERY, payload\u001b[38;5;241m=\u001b[39m{EventPayload\u001b[38;5;241m.\u001b[39mQUERY_STR: query_bundle\u001b[38;5;241m.\u001b[39mquery_str}\n\u001b[1;32m    188\u001b[0m ) \u001b[38;5;28;01mas\u001b[39;00m query_event:\n\u001b[0;32m--> 189\u001b[0m     nodes \u001b[38;5;241m=\u001b[39m \u001b[38;5;28;43mself\u001b[39;49m\u001b[38;5;241;43m.\u001b[39;49m\u001b[43mretrieve\u001b[49m\u001b[43m(\u001b[49m\u001b[43mquery_bundle\u001b[49m\u001b[43m)\u001b[49m\n\u001b[1;32m    190\u001b[0m     response \u001b[38;5;241m=\u001b[39m \u001b[38;5;28mself\u001b[39m\u001b[38;5;241m.\u001b[39m_response_synthesizer\u001b[38;5;241m.\u001b[39msynthesize(\n\u001b[1;32m    191\u001b[0m         query\u001b[38;5;241m=\u001b[39mquery_bundle,\n\u001b[1;32m    192\u001b[0m         nodes\u001b[38;5;241m=\u001b[39mnodes,\n\u001b[1;32m    193\u001b[0m     )\n\u001b[1;32m    194\u001b[0m     query_event\u001b[38;5;241m.\u001b[39mon_end(payload\u001b[38;5;241m=\u001b[39m{EventPayload\u001b[38;5;241m.\u001b[39mRESPONSE: response})\n",
      "File \u001b[0;32m~/Developer/hackerspaces/sudoroom/octaviaButlerWorkshop/.venv/lib/python3.10/site-packages/llama_index/core/query_engine/retriever_query_engine.py:144\u001b[0m, in \u001b[0;36mRetrieverQueryEngine.retrieve\u001b[0;34m(self, query_bundle)\u001b[0m\n\u001b[1;32m    143\u001b[0m \u001b[38;5;28;01mdef\u001b[39;00m \u001b[38;5;21mretrieve\u001b[39m(\u001b[38;5;28mself\u001b[39m, query_bundle: QueryBundle) \u001b[38;5;241m-\u001b[39m\u001b[38;5;241m>\u001b[39m List[NodeWithScore]:\n\u001b[0;32m--> 144\u001b[0m     nodes \u001b[38;5;241m=\u001b[39m \u001b[38;5;28;43mself\u001b[39;49m\u001b[38;5;241;43m.\u001b[39;49m\u001b[43m_retriever\u001b[49m\u001b[38;5;241;43m.\u001b[39;49m\u001b[43mretrieve\u001b[49m\u001b[43m(\u001b[49m\u001b[43mquery_bundle\u001b[49m\u001b[43m)\u001b[49m\n\u001b[1;32m    145\u001b[0m     \u001b[38;5;28;01mreturn\u001b[39;00m \u001b[38;5;28mself\u001b[39m\u001b[38;5;241m.\u001b[39m_apply_node_postprocessors(nodes, query_bundle\u001b[38;5;241m=\u001b[39mquery_bundle)\n",
      "File \u001b[0;32m~/Developer/hackerspaces/sudoroom/octaviaButlerWorkshop/.venv/lib/python3.10/site-packages/llama_index/core/instrumentation/dispatcher.py:260\u001b[0m, in \u001b[0;36mDispatcher.span.<locals>.wrapper\u001b[0;34m(func, instance, args, kwargs)\u001b[0m\n\u001b[1;32m    252\u001b[0m \u001b[38;5;28mself\u001b[39m\u001b[38;5;241m.\u001b[39mspan_enter(\n\u001b[1;32m    253\u001b[0m     id_\u001b[38;5;241m=\u001b[39mid_,\n\u001b[1;32m    254\u001b[0m     bound_args\u001b[38;5;241m=\u001b[39mbound_args,\n\u001b[0;32m   (...)\u001b[0m\n\u001b[1;32m    257\u001b[0m     tags\u001b[38;5;241m=\u001b[39mtags,\n\u001b[1;32m    258\u001b[0m )\n\u001b[1;32m    259\u001b[0m \u001b[38;5;28;01mtry\u001b[39;00m:\n\u001b[0;32m--> 260\u001b[0m     result \u001b[38;5;241m=\u001b[39m \u001b[43mfunc\u001b[49m\u001b[43m(\u001b[49m\u001b[38;5;241;43m*\u001b[39;49m\u001b[43margs\u001b[49m\u001b[43m,\u001b[49m\u001b[43m \u001b[49m\u001b[38;5;241;43m*\u001b[39;49m\u001b[38;5;241;43m*\u001b[39;49m\u001b[43mkwargs\u001b[49m\u001b[43m)\u001b[49m\n\u001b[1;32m    261\u001b[0m \u001b[38;5;28;01mexcept\u001b[39;00m \u001b[38;5;167;01mBaseException\u001b[39;00m \u001b[38;5;28;01mas\u001b[39;00m e:\n\u001b[1;32m    262\u001b[0m     \u001b[38;5;28mself\u001b[39m\u001b[38;5;241m.\u001b[39mevent(SpanDropEvent(span_id\u001b[38;5;241m=\u001b[39mid_, err_str\u001b[38;5;241m=\u001b[39m\u001b[38;5;28mstr\u001b[39m(e)))\n",
      "File \u001b[0;32m~/Developer/hackerspaces/sudoroom/octaviaButlerWorkshop/.venv/lib/python3.10/site-packages/llama_index/core/base/base_retriever.py:243\u001b[0m, in \u001b[0;36mBaseRetriever.retrieve\u001b[0;34m(self, str_or_query_bundle)\u001b[0m\n\u001b[1;32m    238\u001b[0m \u001b[38;5;28;01mwith\u001b[39;00m \u001b[38;5;28mself\u001b[39m\u001b[38;5;241m.\u001b[39mcallback_manager\u001b[38;5;241m.\u001b[39mas_trace(\u001b[38;5;124m\"\u001b[39m\u001b[38;5;124mquery\u001b[39m\u001b[38;5;124m\"\u001b[39m):\n\u001b[1;32m    239\u001b[0m     \u001b[38;5;28;01mwith\u001b[39;00m \u001b[38;5;28mself\u001b[39m\u001b[38;5;241m.\u001b[39mcallback_manager\u001b[38;5;241m.\u001b[39mevent(\n\u001b[1;32m    240\u001b[0m         CBEventType\u001b[38;5;241m.\u001b[39mRETRIEVE,\n\u001b[1;32m    241\u001b[0m         payload\u001b[38;5;241m=\u001b[39m{EventPayload\u001b[38;5;241m.\u001b[39mQUERY_STR: query_bundle\u001b[38;5;241m.\u001b[39mquery_str},\n\u001b[1;32m    242\u001b[0m     ) \u001b[38;5;28;01mas\u001b[39;00m retrieve_event:\n\u001b[0;32m--> 243\u001b[0m         nodes \u001b[38;5;241m=\u001b[39m \u001b[38;5;28;43mself\u001b[39;49m\u001b[38;5;241;43m.\u001b[39;49m\u001b[43m_retrieve\u001b[49m\u001b[43m(\u001b[49m\u001b[43mquery_bundle\u001b[49m\u001b[43m)\u001b[49m\n\u001b[1;32m    244\u001b[0m         nodes \u001b[38;5;241m=\u001b[39m \u001b[38;5;28mself\u001b[39m\u001b[38;5;241m.\u001b[39m_handle_recursive_retrieval(query_bundle, nodes)\n\u001b[1;32m    245\u001b[0m         retrieve_event\u001b[38;5;241m.\u001b[39mon_end(\n\u001b[1;32m    246\u001b[0m             payload\u001b[38;5;241m=\u001b[39m{EventPayload\u001b[38;5;241m.\u001b[39mNODES: nodes},\n\u001b[1;32m    247\u001b[0m         )\n",
      "File \u001b[0;32m~/Developer/hackerspaces/sudoroom/octaviaButlerWorkshop/.venv/lib/python3.10/site-packages/llama_index/core/instrumentation/dispatcher.py:260\u001b[0m, in \u001b[0;36mDispatcher.span.<locals>.wrapper\u001b[0;34m(func, instance, args, kwargs)\u001b[0m\n\u001b[1;32m    252\u001b[0m \u001b[38;5;28mself\u001b[39m\u001b[38;5;241m.\u001b[39mspan_enter(\n\u001b[1;32m    253\u001b[0m     id_\u001b[38;5;241m=\u001b[39mid_,\n\u001b[1;32m    254\u001b[0m     bound_args\u001b[38;5;241m=\u001b[39mbound_args,\n\u001b[0;32m   (...)\u001b[0m\n\u001b[1;32m    257\u001b[0m     tags\u001b[38;5;241m=\u001b[39mtags,\n\u001b[1;32m    258\u001b[0m )\n\u001b[1;32m    259\u001b[0m \u001b[38;5;28;01mtry\u001b[39;00m:\n\u001b[0;32m--> 260\u001b[0m     result \u001b[38;5;241m=\u001b[39m \u001b[43mfunc\u001b[49m\u001b[43m(\u001b[49m\u001b[38;5;241;43m*\u001b[39;49m\u001b[43margs\u001b[49m\u001b[43m,\u001b[49m\u001b[43m \u001b[49m\u001b[38;5;241;43m*\u001b[39;49m\u001b[38;5;241;43m*\u001b[39;49m\u001b[43mkwargs\u001b[49m\u001b[43m)\u001b[49m\n\u001b[1;32m    261\u001b[0m \u001b[38;5;28;01mexcept\u001b[39;00m \u001b[38;5;167;01mBaseException\u001b[39;00m \u001b[38;5;28;01mas\u001b[39;00m e:\n\u001b[1;32m    262\u001b[0m     \u001b[38;5;28mself\u001b[39m\u001b[38;5;241m.\u001b[39mevent(SpanDropEvent(span_id\u001b[38;5;241m=\u001b[39mid_, err_str\u001b[38;5;241m=\u001b[39m\u001b[38;5;28mstr\u001b[39m(e)))\n",
      "File \u001b[0;32m~/Developer/hackerspaces/sudoroom/octaviaButlerWorkshop/.venv/lib/python3.10/site-packages/llama_index/core/indices/vector_store/retrievers/retriever.py:101\u001b[0m, in \u001b[0;36mVectorIndexRetriever._retrieve\u001b[0;34m(self, query_bundle)\u001b[0m\n\u001b[1;32m     95\u001b[0m     \u001b[38;5;28;01mif\u001b[39;00m query_bundle\u001b[38;5;241m.\u001b[39membedding \u001b[38;5;129;01mis\u001b[39;00m \u001b[38;5;28;01mNone\u001b[39;00m \u001b[38;5;129;01mand\u001b[39;00m \u001b[38;5;28mlen\u001b[39m(query_bundle\u001b[38;5;241m.\u001b[39membedding_strs) \u001b[38;5;241m>\u001b[39m \u001b[38;5;241m0\u001b[39m:\n\u001b[1;32m     96\u001b[0m         query_bundle\u001b[38;5;241m.\u001b[39membedding \u001b[38;5;241m=\u001b[39m (\n\u001b[1;32m     97\u001b[0m             \u001b[38;5;28mself\u001b[39m\u001b[38;5;241m.\u001b[39m_embed_model\u001b[38;5;241m.\u001b[39mget_agg_embedding_from_queries(\n\u001b[1;32m     98\u001b[0m                 query_bundle\u001b[38;5;241m.\u001b[39membedding_strs\n\u001b[1;32m     99\u001b[0m             )\n\u001b[1;32m    100\u001b[0m         )\n\u001b[0;32m--> 101\u001b[0m \u001b[38;5;28;01mreturn\u001b[39;00m \u001b[38;5;28;43mself\u001b[39;49m\u001b[38;5;241;43m.\u001b[39;49m\u001b[43m_get_nodes_with_embeddings\u001b[49m\u001b[43m(\u001b[49m\u001b[43mquery_bundle\u001b[49m\u001b[43m)\u001b[49m\n",
      "File \u001b[0;32m~/Developer/hackerspaces/sudoroom/octaviaButlerWorkshop/.venv/lib/python3.10/site-packages/llama_index/core/indices/vector_store/retrievers/retriever.py:177\u001b[0m, in \u001b[0;36mVectorIndexRetriever._get_nodes_with_embeddings\u001b[0;34m(self, query_bundle_with_embeddings)\u001b[0m\n\u001b[1;32m    173\u001b[0m \u001b[38;5;28;01mdef\u001b[39;00m \u001b[38;5;21m_get_nodes_with_embeddings\u001b[39m(\n\u001b[1;32m    174\u001b[0m     \u001b[38;5;28mself\u001b[39m, query_bundle_with_embeddings: QueryBundle\n\u001b[1;32m    175\u001b[0m ) \u001b[38;5;241m-\u001b[39m\u001b[38;5;241m>\u001b[39m List[NodeWithScore]:\n\u001b[1;32m    176\u001b[0m     query \u001b[38;5;241m=\u001b[39m \u001b[38;5;28mself\u001b[39m\u001b[38;5;241m.\u001b[39m_build_vector_store_query(query_bundle_with_embeddings)\n\u001b[0;32m--> 177\u001b[0m     query_result \u001b[38;5;241m=\u001b[39m \u001b[38;5;28;43mself\u001b[39;49m\u001b[38;5;241;43m.\u001b[39;49m\u001b[43m_vector_store\u001b[49m\u001b[38;5;241;43m.\u001b[39;49m\u001b[43mquery\u001b[49m\u001b[43m(\u001b[49m\u001b[43mquery\u001b[49m\u001b[43m,\u001b[49m\u001b[43m \u001b[49m\u001b[38;5;241;43m*\u001b[39;49m\u001b[38;5;241;43m*\u001b[39;49m\u001b[38;5;28;43mself\u001b[39;49m\u001b[38;5;241;43m.\u001b[39;49m\u001b[43m_kwargs\u001b[49m\u001b[43m)\u001b[49m\n\u001b[1;32m    178\u001b[0m     \u001b[38;5;28;01mreturn\u001b[39;00m \u001b[38;5;28mself\u001b[39m\u001b[38;5;241m.\u001b[39m_build_node_list_from_query_result(query_result)\n",
      "File \u001b[0;32m~/Developer/hackerspaces/sudoroom/octaviaButlerWorkshop/.venv/lib/python3.10/site-packages/llama_index/core/vector_stores/simple.py:376\u001b[0m, in \u001b[0;36mSimpleVectorStore.query\u001b[0;34m(self, query, **kwargs)\u001b[0m\n\u001b[1;32m    368\u001b[0m     top_similarities, top_ids \u001b[38;5;241m=\u001b[39m get_top_k_mmr_embeddings(\n\u001b[1;32m    369\u001b[0m         query_embedding,\n\u001b[1;32m    370\u001b[0m         embeddings,\n\u001b[0;32m   (...)\u001b[0m\n\u001b[1;32m    373\u001b[0m         mmr_threshold\u001b[38;5;241m=\u001b[39mmmr_threshold,\n\u001b[1;32m    374\u001b[0m     )\n\u001b[1;32m    375\u001b[0m \u001b[38;5;28;01melif\u001b[39;00m query\u001b[38;5;241m.\u001b[39mmode \u001b[38;5;241m==\u001b[39m VectorStoreQueryMode\u001b[38;5;241m.\u001b[39mDEFAULT:\n\u001b[0;32m--> 376\u001b[0m     top_similarities, top_ids \u001b[38;5;241m=\u001b[39m \u001b[43mget_top_k_embeddings\u001b[49m\u001b[43m(\u001b[49m\n\u001b[1;32m    377\u001b[0m \u001b[43m        \u001b[49m\u001b[43mquery_embedding\u001b[49m\u001b[43m,\u001b[49m\n\u001b[1;32m    378\u001b[0m \u001b[43m        \u001b[49m\u001b[43membeddings\u001b[49m\u001b[43m,\u001b[49m\n\u001b[1;32m    379\u001b[0m \u001b[43m        \u001b[49m\u001b[43msimilarity_top_k\u001b[49m\u001b[38;5;241;43m=\u001b[39;49m\u001b[43mquery\u001b[49m\u001b[38;5;241;43m.\u001b[39;49m\u001b[43msimilarity_top_k\u001b[49m\u001b[43m,\u001b[49m\n\u001b[1;32m    380\u001b[0m \u001b[43m        \u001b[49m\u001b[43membedding_ids\u001b[49m\u001b[38;5;241;43m=\u001b[39;49m\u001b[43mnode_ids\u001b[49m\u001b[43m,\u001b[49m\n\u001b[1;32m    381\u001b[0m \u001b[43m    \u001b[49m\u001b[43m)\u001b[49m\n\u001b[1;32m    382\u001b[0m \u001b[38;5;28;01melse\u001b[39;00m:\n\u001b[1;32m    383\u001b[0m     \u001b[38;5;28;01mraise\u001b[39;00m \u001b[38;5;167;01mValueError\u001b[39;00m(\u001b[38;5;124mf\u001b[39m\u001b[38;5;124m\"\u001b[39m\u001b[38;5;124mInvalid query mode: \u001b[39m\u001b[38;5;132;01m{\u001b[39;00mquery\u001b[38;5;241m.\u001b[39mmode\u001b[38;5;132;01m}\u001b[39;00m\u001b[38;5;124m\"\u001b[39m)\n",
      "File \u001b[0;32m~/Developer/hackerspaces/sudoroom/octaviaButlerWorkshop/.venv/lib/python3.10/site-packages/llama_index/core/indices/query/embedding_utils.py:30\u001b[0m, in \u001b[0;36mget_top_k_embeddings\u001b[0;34m(query_embedding, embeddings, similarity_fn, similarity_top_k, embedding_ids, similarity_cutoff)\u001b[0m\n\u001b[1;32m     28\u001b[0m similarity_heap: List[Tuple[\u001b[38;5;28mfloat\u001b[39m, Any]] \u001b[38;5;241m=\u001b[39m []\n\u001b[1;32m     29\u001b[0m \u001b[38;5;28;01mfor\u001b[39;00m i, emb \u001b[38;5;129;01min\u001b[39;00m \u001b[38;5;28menumerate\u001b[39m(embeddings_np):\n\u001b[0;32m---> 30\u001b[0m     similarity \u001b[38;5;241m=\u001b[39m \u001b[43msimilarity_fn\u001b[49m\u001b[43m(\u001b[49m\u001b[43mquery_embedding_np\u001b[49m\u001b[43m,\u001b[49m\u001b[43m \u001b[49m\u001b[43memb\u001b[49m\u001b[43m)\u001b[49m\n\u001b[1;32m     31\u001b[0m     \u001b[38;5;28;01mif\u001b[39;00m similarity_cutoff \u001b[38;5;129;01mis\u001b[39;00m \u001b[38;5;28;01mNone\u001b[39;00m \u001b[38;5;129;01mor\u001b[39;00m similarity \u001b[38;5;241m>\u001b[39m similarity_cutoff:\n\u001b[1;32m     32\u001b[0m         heapq\u001b[38;5;241m.\u001b[39mheappush(similarity_heap, (similarity, embedding_ids[i]))\n",
      "File \u001b[0;32m~/Developer/hackerspaces/sudoroom/octaviaButlerWorkshop/.venv/lib/python3.10/site-packages/llama_index/core/base/embeddings/base.py:58\u001b[0m, in \u001b[0;36msimilarity\u001b[0;34m(embedding1, embedding2, mode)\u001b[0m\n\u001b[1;32m     56\u001b[0m     \u001b[38;5;28;01mreturn\u001b[39;00m np\u001b[38;5;241m.\u001b[39mdot(embedding1, embedding2)\n\u001b[1;32m     57\u001b[0m \u001b[38;5;28;01melse\u001b[39;00m:\n\u001b[0;32m---> 58\u001b[0m     product \u001b[38;5;241m=\u001b[39m \u001b[43mnp\u001b[49m\u001b[38;5;241;43m.\u001b[39;49m\u001b[43mdot\u001b[49m\u001b[43m(\u001b[49m\u001b[43membedding1\u001b[49m\u001b[43m,\u001b[49m\u001b[43m \u001b[49m\u001b[43membedding2\u001b[49m\u001b[43m)\u001b[49m\n\u001b[1;32m     59\u001b[0m     norm \u001b[38;5;241m=\u001b[39m np\u001b[38;5;241m.\u001b[39mlinalg\u001b[38;5;241m.\u001b[39mnorm(embedding1) \u001b[38;5;241m*\u001b[39m np\u001b[38;5;241m.\u001b[39mlinalg\u001b[38;5;241m.\u001b[39mnorm(embedding2)\n\u001b[1;32m     60\u001b[0m     \u001b[38;5;28;01mreturn\u001b[39;00m product \u001b[38;5;241m/\u001b[39m norm\n",
      "\u001b[0;31mTypeError\u001b[0m: unsupported operand type(s) for *: 'NoneType' and 'float'"
     ]
    }
   ],
   "source": [
    "# start a REPL loop\n",
    "while True:\n",
    "    user_input = input(\"Ask a question about the document. Type 'exit' to quit.\\n> \")\n",
    "    if user_input==\"exit\" or user_input == \"\":\n",
    "        break\n",
    "    response_answer = query_engine.query(user_input)\n",
    "    print(f\"Question: {user_input}\\nAnswer: {response_answer}\")\n",
    "  "
   ]
  }
 ],
 "metadata": {
  "kernelspec": {
   "display_name": "base",
   "language": "python",
   "name": "python3"
  },
  "language_info": {
   "codemirror_mode": {
    "name": "ipython",
    "version": 3
   },
   "file_extension": ".py",
   "mimetype": "text/x-python",
   "name": "python",
   "nbconvert_exporter": "python",
   "pygments_lexer": "ipython3",
   "version": "3.10.8"
  }
 },
 "nbformat": 4,
 "nbformat_minor": 2
}
